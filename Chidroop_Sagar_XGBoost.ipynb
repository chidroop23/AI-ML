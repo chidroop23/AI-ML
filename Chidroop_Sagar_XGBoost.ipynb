{
  "nbformat": 4,
  "nbformat_minor": 0,
  "metadata": {
    "colab": {
      "provenance": [],
      "authorship_tag": "ABX9TyNgEphlZlT+L7QxD73vnfbH",
      "include_colab_link": true
    },
    "kernelspec": {
      "name": "python3",
      "display_name": "Python 3"
    },
    "language_info": {
      "name": "python"
    }
  },
  "cells": [
    {
      "cell_type": "markdown",
      "metadata": {
        "id": "view-in-github",
        "colab_type": "text"
      },
      "source": [
        "<a href=\"https://colab.research.google.com/github/chidroop23/AI-ML/blob/main/Chidroop_Sagar_XGBoost.ipynb\" target=\"_parent\"><img src=\"https://colab.research.google.com/assets/colab-badge.svg\" alt=\"Open In Colab\"/></a>"
      ]
    },
    {
      "cell_type": "markdown",
      "source": [
        "# **XGBoost Classifier for Classic Salary Prediction**"
      ],
      "metadata": {
        "id": "Fxpq9b7w8usk"
      }
    },
    {
      "cell_type": "markdown",
      "source": [
        "**Importing the libraries**"
      ],
      "metadata": {
        "id": "-TxpFjKK83vZ"
      }
    },
    {
      "cell_type": "code",
      "execution_count": 1,
      "metadata": {
        "id": "gWfP1w7q6aMi"
      },
      "outputs": [],
      "source": [
        "import numpy as np\n",
        "import pandas as pd\n",
        "import matplotlib.pyplot as plt\n",
        "import sklearn\n",
        "from xgboost.sklearn import XGBClassifier"
      ]
    },
    {
      "cell_type": "code",
      "source": [
        "features = [\"Age\", \"Workclass\", \"fnlwgt\", \"Education\", \"Education-Num\", \"Martial Status\",\n",
        "            \"Occupation\", \"Relationship\", \"Race\", \"Sex\", \"Capital Gain\", \"Capital Loss\",\n",
        "             \"Hours per week\", \"Country\", \"Target\"]\n",
        "\n",
        "train_set = pd.read_csv('https://archive.ics.uci.edu/ml/machine-learning-databases/adult/adult.data', names=features, sep=r'\\s*,\\s*',\n",
        "                    engine='python', na_values=\"?\", skiprows=1 )\n",
        "test_set = pd.read_csv('https://archive.ics.uci.edu/ml/machine-learning-databases/adult/adult.test', names=features, sep=r'\\s*,\\s*',\n",
        "                    engine='python', na_values=\"?\", skiprows=1)\n",
        "\n"
      ],
      "metadata": {
        "id": "4-Lac6iz87cS"
      },
      "execution_count": 2,
      "outputs": []
    },
    {
      "cell_type": "code",
      "source": [
        "train_set.head()"
      ],
      "metadata": {
        "colab": {
          "base_uri": "https://localhost:8080/",
          "height": 206
        },
        "id": "pwKPGE4p9aIz",
        "outputId": "c002a63f-1e9f-49b4-d3ed-fb4c332d7539"
      },
      "execution_count": 3,
      "outputs": [
        {
          "output_type": "execute_result",
          "data": {
            "text/plain": [
              "   Age         Workclass  fnlwgt  Education  Education-Num  \\\n",
              "0   50  Self-emp-not-inc   83311  Bachelors             13   \n",
              "1   38           Private  215646    HS-grad              9   \n",
              "2   53           Private  234721       11th              7   \n",
              "3   28           Private  338409  Bachelors             13   \n",
              "4   37           Private  284582    Masters             14   \n",
              "\n",
              "       Martial Status         Occupation   Relationship   Race     Sex  \\\n",
              "0  Married-civ-spouse    Exec-managerial        Husband  White    Male   \n",
              "1            Divorced  Handlers-cleaners  Not-in-family  White    Male   \n",
              "2  Married-civ-spouse  Handlers-cleaners        Husband  Black    Male   \n",
              "3  Married-civ-spouse     Prof-specialty           Wife  Black  Female   \n",
              "4  Married-civ-spouse    Exec-managerial           Wife  White  Female   \n",
              "\n",
              "   Capital Gain  Capital Loss  Hours per week        Country Target  \n",
              "0             0             0              13  United-States  <=50K  \n",
              "1             0             0              40  United-States  <=50K  \n",
              "2             0             0              40  United-States  <=50K  \n",
              "3             0             0              40           Cuba  <=50K  \n",
              "4             0             0              40  United-States  <=50K  "
            ],
            "text/html": [
              "\n",
              "\n",
              "  <div id=\"df-5b192df8-ab4e-427e-b5d3-25ea5f428a65\">\n",
              "    <div class=\"colab-df-container\">\n",
              "      <div>\n",
              "<style scoped>\n",
              "    .dataframe tbody tr th:only-of-type {\n",
              "        vertical-align: middle;\n",
              "    }\n",
              "\n",
              "    .dataframe tbody tr th {\n",
              "        vertical-align: top;\n",
              "    }\n",
              "\n",
              "    .dataframe thead th {\n",
              "        text-align: right;\n",
              "    }\n",
              "</style>\n",
              "<table border=\"1\" class=\"dataframe\">\n",
              "  <thead>\n",
              "    <tr style=\"text-align: right;\">\n",
              "      <th></th>\n",
              "      <th>Age</th>\n",
              "      <th>Workclass</th>\n",
              "      <th>fnlwgt</th>\n",
              "      <th>Education</th>\n",
              "      <th>Education-Num</th>\n",
              "      <th>Martial Status</th>\n",
              "      <th>Occupation</th>\n",
              "      <th>Relationship</th>\n",
              "      <th>Race</th>\n",
              "      <th>Sex</th>\n",
              "      <th>Capital Gain</th>\n",
              "      <th>Capital Loss</th>\n",
              "      <th>Hours per week</th>\n",
              "      <th>Country</th>\n",
              "      <th>Target</th>\n",
              "    </tr>\n",
              "  </thead>\n",
              "  <tbody>\n",
              "    <tr>\n",
              "      <th>0</th>\n",
              "      <td>50</td>\n",
              "      <td>Self-emp-not-inc</td>\n",
              "      <td>83311</td>\n",
              "      <td>Bachelors</td>\n",
              "      <td>13</td>\n",
              "      <td>Married-civ-spouse</td>\n",
              "      <td>Exec-managerial</td>\n",
              "      <td>Husband</td>\n",
              "      <td>White</td>\n",
              "      <td>Male</td>\n",
              "      <td>0</td>\n",
              "      <td>0</td>\n",
              "      <td>13</td>\n",
              "      <td>United-States</td>\n",
              "      <td>&lt;=50K</td>\n",
              "    </tr>\n",
              "    <tr>\n",
              "      <th>1</th>\n",
              "      <td>38</td>\n",
              "      <td>Private</td>\n",
              "      <td>215646</td>\n",
              "      <td>HS-grad</td>\n",
              "      <td>9</td>\n",
              "      <td>Divorced</td>\n",
              "      <td>Handlers-cleaners</td>\n",
              "      <td>Not-in-family</td>\n",
              "      <td>White</td>\n",
              "      <td>Male</td>\n",
              "      <td>0</td>\n",
              "      <td>0</td>\n",
              "      <td>40</td>\n",
              "      <td>United-States</td>\n",
              "      <td>&lt;=50K</td>\n",
              "    </tr>\n",
              "    <tr>\n",
              "      <th>2</th>\n",
              "      <td>53</td>\n",
              "      <td>Private</td>\n",
              "      <td>234721</td>\n",
              "      <td>11th</td>\n",
              "      <td>7</td>\n",
              "      <td>Married-civ-spouse</td>\n",
              "      <td>Handlers-cleaners</td>\n",
              "      <td>Husband</td>\n",
              "      <td>Black</td>\n",
              "      <td>Male</td>\n",
              "      <td>0</td>\n",
              "      <td>0</td>\n",
              "      <td>40</td>\n",
              "      <td>United-States</td>\n",
              "      <td>&lt;=50K</td>\n",
              "    </tr>\n",
              "    <tr>\n",
              "      <th>3</th>\n",
              "      <td>28</td>\n",
              "      <td>Private</td>\n",
              "      <td>338409</td>\n",
              "      <td>Bachelors</td>\n",
              "      <td>13</td>\n",
              "      <td>Married-civ-spouse</td>\n",
              "      <td>Prof-specialty</td>\n",
              "      <td>Wife</td>\n",
              "      <td>Black</td>\n",
              "      <td>Female</td>\n",
              "      <td>0</td>\n",
              "      <td>0</td>\n",
              "      <td>40</td>\n",
              "      <td>Cuba</td>\n",
              "      <td>&lt;=50K</td>\n",
              "    </tr>\n",
              "    <tr>\n",
              "      <th>4</th>\n",
              "      <td>37</td>\n",
              "      <td>Private</td>\n",
              "      <td>284582</td>\n",
              "      <td>Masters</td>\n",
              "      <td>14</td>\n",
              "      <td>Married-civ-spouse</td>\n",
              "      <td>Exec-managerial</td>\n",
              "      <td>Wife</td>\n",
              "      <td>White</td>\n",
              "      <td>Female</td>\n",
              "      <td>0</td>\n",
              "      <td>0</td>\n",
              "      <td>40</td>\n",
              "      <td>United-States</td>\n",
              "      <td>&lt;=50K</td>\n",
              "    </tr>\n",
              "  </tbody>\n",
              "</table>\n",
              "</div>\n",
              "      <button class=\"colab-df-convert\" onclick=\"convertToInteractive('df-5b192df8-ab4e-427e-b5d3-25ea5f428a65')\"\n",
              "              title=\"Convert this dataframe to an interactive table.\"\n",
              "              style=\"display:none;\">\n",
              "\n",
              "  <svg xmlns=\"http://www.w3.org/2000/svg\" height=\"24px\"viewBox=\"0 0 24 24\"\n",
              "       width=\"24px\">\n",
              "    <path d=\"M0 0h24v24H0V0z\" fill=\"none\"/>\n",
              "    <path d=\"M18.56 5.44l.94 2.06.94-2.06 2.06-.94-2.06-.94-.94-2.06-.94 2.06-2.06.94zm-11 1L8.5 8.5l.94-2.06 2.06-.94-2.06-.94L8.5 2.5l-.94 2.06-2.06.94zm10 10l.94 2.06.94-2.06 2.06-.94-2.06-.94-.94-2.06-.94 2.06-2.06.94z\"/><path d=\"M17.41 7.96l-1.37-1.37c-.4-.4-.92-.59-1.43-.59-.52 0-1.04.2-1.43.59L10.3 9.45l-7.72 7.72c-.78.78-.78 2.05 0 2.83L4 21.41c.39.39.9.59 1.41.59.51 0 1.02-.2 1.41-.59l7.78-7.78 2.81-2.81c.8-.78.8-2.07 0-2.86zM5.41 20L4 18.59l7.72-7.72 1.47 1.35L5.41 20z\"/>\n",
              "  </svg>\n",
              "      </button>\n",
              "\n",
              "\n",
              "\n",
              "    <div id=\"df-4bbc7b8c-c43f-425d-9f45-ef7216f333d0\">\n",
              "      <button class=\"colab-df-quickchart\" onclick=\"quickchart('df-4bbc7b8c-c43f-425d-9f45-ef7216f333d0')\"\n",
              "              title=\"Suggest charts.\"\n",
              "              style=\"display:none;\">\n",
              "\n",
              "<svg xmlns=\"http://www.w3.org/2000/svg\" height=\"24px\"viewBox=\"0 0 24 24\"\n",
              "     width=\"24px\">\n",
              "    <g>\n",
              "        <path d=\"M19 3H5c-1.1 0-2 .9-2 2v14c0 1.1.9 2 2 2h14c1.1 0 2-.9 2-2V5c0-1.1-.9-2-2-2zM9 17H7v-7h2v7zm4 0h-2V7h2v10zm4 0h-2v-4h2v4z\"/>\n",
              "    </g>\n",
              "</svg>\n",
              "      </button>\n",
              "    </div>\n",
              "\n",
              "<style>\n",
              "  .colab-df-quickchart {\n",
              "    background-color: #E8F0FE;\n",
              "    border: none;\n",
              "    border-radius: 50%;\n",
              "    cursor: pointer;\n",
              "    display: none;\n",
              "    fill: #1967D2;\n",
              "    height: 32px;\n",
              "    padding: 0 0 0 0;\n",
              "    width: 32px;\n",
              "  }\n",
              "\n",
              "  .colab-df-quickchart:hover {\n",
              "    background-color: #E2EBFA;\n",
              "    box-shadow: 0px 1px 2px rgba(60, 64, 67, 0.3), 0px 1px 3px 1px rgba(60, 64, 67, 0.15);\n",
              "    fill: #174EA6;\n",
              "  }\n",
              "\n",
              "  [theme=dark] .colab-df-quickchart {\n",
              "    background-color: #3B4455;\n",
              "    fill: #D2E3FC;\n",
              "  }\n",
              "\n",
              "  [theme=dark] .colab-df-quickchart:hover {\n",
              "    background-color: #434B5C;\n",
              "    box-shadow: 0px 1px 3px 1px rgba(0, 0, 0, 0.15);\n",
              "    filter: drop-shadow(0px 1px 2px rgba(0, 0, 0, 0.3));\n",
              "    fill: #FFFFFF;\n",
              "  }\n",
              "</style>\n",
              "\n",
              "    <script>\n",
              "      async function quickchart(key) {\n",
              "        const containerElement = document.querySelector('#' + key);\n",
              "        const charts = await google.colab.kernel.invokeFunction(\n",
              "            'suggestCharts', [key], {});\n",
              "      }\n",
              "    </script>\n",
              "\n",
              "      <script>\n",
              "\n",
              "function displayQuickchartButton(domScope) {\n",
              "  let quickchartButtonEl =\n",
              "    domScope.querySelector('#df-4bbc7b8c-c43f-425d-9f45-ef7216f333d0 button.colab-df-quickchart');\n",
              "  quickchartButtonEl.style.display =\n",
              "    google.colab.kernel.accessAllowed ? 'block' : 'none';\n",
              "}\n",
              "\n",
              "        displayQuickchartButton(document);\n",
              "      </script>\n",
              "      <style>\n",
              "    .colab-df-container {\n",
              "      display:flex;\n",
              "      flex-wrap:wrap;\n",
              "      gap: 12px;\n",
              "    }\n",
              "\n",
              "    .colab-df-convert {\n",
              "      background-color: #E8F0FE;\n",
              "      border: none;\n",
              "      border-radius: 50%;\n",
              "      cursor: pointer;\n",
              "      display: none;\n",
              "      fill: #1967D2;\n",
              "      height: 32px;\n",
              "      padding: 0 0 0 0;\n",
              "      width: 32px;\n",
              "    }\n",
              "\n",
              "    .colab-df-convert:hover {\n",
              "      background-color: #E2EBFA;\n",
              "      box-shadow: 0px 1px 2px rgba(60, 64, 67, 0.3), 0px 1px 3px 1px rgba(60, 64, 67, 0.15);\n",
              "      fill: #174EA6;\n",
              "    }\n",
              "\n",
              "    [theme=dark] .colab-df-convert {\n",
              "      background-color: #3B4455;\n",
              "      fill: #D2E3FC;\n",
              "    }\n",
              "\n",
              "    [theme=dark] .colab-df-convert:hover {\n",
              "      background-color: #434B5C;\n",
              "      box-shadow: 0px 1px 3px 1px rgba(0, 0, 0, 0.15);\n",
              "      filter: drop-shadow(0px 1px 2px rgba(0, 0, 0, 0.3));\n",
              "      fill: #FFFFFF;\n",
              "    }\n",
              "  </style>\n",
              "\n",
              "      <script>\n",
              "        const buttonEl =\n",
              "          document.querySelector('#df-5b192df8-ab4e-427e-b5d3-25ea5f428a65 button.colab-df-convert');\n",
              "        buttonEl.style.display =\n",
              "          google.colab.kernel.accessAllowed ? 'block' : 'none';\n",
              "\n",
              "        async function convertToInteractive(key) {\n",
              "          const element = document.querySelector('#df-5b192df8-ab4e-427e-b5d3-25ea5f428a65');\n",
              "          const dataTable =\n",
              "            await google.colab.kernel.invokeFunction('convertToInteractive',\n",
              "                                                     [key], {});\n",
              "          if (!dataTable) return;\n",
              "\n",
              "          const docLinkHtml = 'Like what you see? Visit the ' +\n",
              "            '<a target=\"_blank\" href=https://colab.research.google.com/notebooks/data_table.ipynb>data table notebook</a>'\n",
              "            + ' to learn more about interactive tables.';\n",
              "          element.innerHTML = '';\n",
              "          dataTable['output_type'] = 'display_data';\n",
              "          await google.colab.output.renderOutput(dataTable, element);\n",
              "          const docLink = document.createElement('div');\n",
              "          docLink.innerHTML = docLinkHtml;\n",
              "          element.appendChild(docLink);\n",
              "        }\n",
              "      </script>\n",
              "    </div>\n",
              "  </div>\n"
            ]
          },
          "metadata": {},
          "execution_count": 3
        }
      ]
    },
    {
      "cell_type": "code",
      "source": [
        "test_set.head()"
      ],
      "metadata": {
        "colab": {
          "base_uri": "https://localhost:8080/",
          "height": 206
        },
        "id": "Nv7taXD79l4H",
        "outputId": "e90f5249-d3d8-400b-9c9a-2a129a0d1127"
      },
      "execution_count": 4,
      "outputs": [
        {
          "output_type": "execute_result",
          "data": {
            "text/plain": [
              "   Age  Workclass  fnlwgt     Education  Education-Num      Martial Status  \\\n",
              "0   25    Private  226802          11th              7       Never-married   \n",
              "1   38    Private   89814       HS-grad              9  Married-civ-spouse   \n",
              "2   28  Local-gov  336951    Assoc-acdm             12  Married-civ-spouse   \n",
              "3   44    Private  160323  Some-college             10  Married-civ-spouse   \n",
              "4   18        NaN  103497  Some-college             10       Never-married   \n",
              "\n",
              "          Occupation Relationship   Race     Sex  Capital Gain  Capital Loss  \\\n",
              "0  Machine-op-inspct    Own-child  Black    Male             0             0   \n",
              "1    Farming-fishing      Husband  White    Male             0             0   \n",
              "2    Protective-serv      Husband  White    Male             0             0   \n",
              "3  Machine-op-inspct      Husband  Black    Male          7688             0   \n",
              "4                NaN    Own-child  White  Female             0             0   \n",
              "\n",
              "   Hours per week        Country  Target  \n",
              "0              40  United-States  <=50K.  \n",
              "1              50  United-States  <=50K.  \n",
              "2              40  United-States   >50K.  \n",
              "3              40  United-States   >50K.  \n",
              "4              30  United-States  <=50K.  "
            ],
            "text/html": [
              "\n",
              "\n",
              "  <div id=\"df-95f8bb05-bb68-42b2-b06a-9393ac78c9cc\">\n",
              "    <div class=\"colab-df-container\">\n",
              "      <div>\n",
              "<style scoped>\n",
              "    .dataframe tbody tr th:only-of-type {\n",
              "        vertical-align: middle;\n",
              "    }\n",
              "\n",
              "    .dataframe tbody tr th {\n",
              "        vertical-align: top;\n",
              "    }\n",
              "\n",
              "    .dataframe thead th {\n",
              "        text-align: right;\n",
              "    }\n",
              "</style>\n",
              "<table border=\"1\" class=\"dataframe\">\n",
              "  <thead>\n",
              "    <tr style=\"text-align: right;\">\n",
              "      <th></th>\n",
              "      <th>Age</th>\n",
              "      <th>Workclass</th>\n",
              "      <th>fnlwgt</th>\n",
              "      <th>Education</th>\n",
              "      <th>Education-Num</th>\n",
              "      <th>Martial Status</th>\n",
              "      <th>Occupation</th>\n",
              "      <th>Relationship</th>\n",
              "      <th>Race</th>\n",
              "      <th>Sex</th>\n",
              "      <th>Capital Gain</th>\n",
              "      <th>Capital Loss</th>\n",
              "      <th>Hours per week</th>\n",
              "      <th>Country</th>\n",
              "      <th>Target</th>\n",
              "    </tr>\n",
              "  </thead>\n",
              "  <tbody>\n",
              "    <tr>\n",
              "      <th>0</th>\n",
              "      <td>25</td>\n",
              "      <td>Private</td>\n",
              "      <td>226802</td>\n",
              "      <td>11th</td>\n",
              "      <td>7</td>\n",
              "      <td>Never-married</td>\n",
              "      <td>Machine-op-inspct</td>\n",
              "      <td>Own-child</td>\n",
              "      <td>Black</td>\n",
              "      <td>Male</td>\n",
              "      <td>0</td>\n",
              "      <td>0</td>\n",
              "      <td>40</td>\n",
              "      <td>United-States</td>\n",
              "      <td>&lt;=50K.</td>\n",
              "    </tr>\n",
              "    <tr>\n",
              "      <th>1</th>\n",
              "      <td>38</td>\n",
              "      <td>Private</td>\n",
              "      <td>89814</td>\n",
              "      <td>HS-grad</td>\n",
              "      <td>9</td>\n",
              "      <td>Married-civ-spouse</td>\n",
              "      <td>Farming-fishing</td>\n",
              "      <td>Husband</td>\n",
              "      <td>White</td>\n",
              "      <td>Male</td>\n",
              "      <td>0</td>\n",
              "      <td>0</td>\n",
              "      <td>50</td>\n",
              "      <td>United-States</td>\n",
              "      <td>&lt;=50K.</td>\n",
              "    </tr>\n",
              "    <tr>\n",
              "      <th>2</th>\n",
              "      <td>28</td>\n",
              "      <td>Local-gov</td>\n",
              "      <td>336951</td>\n",
              "      <td>Assoc-acdm</td>\n",
              "      <td>12</td>\n",
              "      <td>Married-civ-spouse</td>\n",
              "      <td>Protective-serv</td>\n",
              "      <td>Husband</td>\n",
              "      <td>White</td>\n",
              "      <td>Male</td>\n",
              "      <td>0</td>\n",
              "      <td>0</td>\n",
              "      <td>40</td>\n",
              "      <td>United-States</td>\n",
              "      <td>&gt;50K.</td>\n",
              "    </tr>\n",
              "    <tr>\n",
              "      <th>3</th>\n",
              "      <td>44</td>\n",
              "      <td>Private</td>\n",
              "      <td>160323</td>\n",
              "      <td>Some-college</td>\n",
              "      <td>10</td>\n",
              "      <td>Married-civ-spouse</td>\n",
              "      <td>Machine-op-inspct</td>\n",
              "      <td>Husband</td>\n",
              "      <td>Black</td>\n",
              "      <td>Male</td>\n",
              "      <td>7688</td>\n",
              "      <td>0</td>\n",
              "      <td>40</td>\n",
              "      <td>United-States</td>\n",
              "      <td>&gt;50K.</td>\n",
              "    </tr>\n",
              "    <tr>\n",
              "      <th>4</th>\n",
              "      <td>18</td>\n",
              "      <td>NaN</td>\n",
              "      <td>103497</td>\n",
              "      <td>Some-college</td>\n",
              "      <td>10</td>\n",
              "      <td>Never-married</td>\n",
              "      <td>NaN</td>\n",
              "      <td>Own-child</td>\n",
              "      <td>White</td>\n",
              "      <td>Female</td>\n",
              "      <td>0</td>\n",
              "      <td>0</td>\n",
              "      <td>30</td>\n",
              "      <td>United-States</td>\n",
              "      <td>&lt;=50K.</td>\n",
              "    </tr>\n",
              "  </tbody>\n",
              "</table>\n",
              "</div>\n",
              "      <button class=\"colab-df-convert\" onclick=\"convertToInteractive('df-95f8bb05-bb68-42b2-b06a-9393ac78c9cc')\"\n",
              "              title=\"Convert this dataframe to an interactive table.\"\n",
              "              style=\"display:none;\">\n",
              "\n",
              "  <svg xmlns=\"http://www.w3.org/2000/svg\" height=\"24px\"viewBox=\"0 0 24 24\"\n",
              "       width=\"24px\">\n",
              "    <path d=\"M0 0h24v24H0V0z\" fill=\"none\"/>\n",
              "    <path d=\"M18.56 5.44l.94 2.06.94-2.06 2.06-.94-2.06-.94-.94-2.06-.94 2.06-2.06.94zm-11 1L8.5 8.5l.94-2.06 2.06-.94-2.06-.94L8.5 2.5l-.94 2.06-2.06.94zm10 10l.94 2.06.94-2.06 2.06-.94-2.06-.94-.94-2.06-.94 2.06-2.06.94z\"/><path d=\"M17.41 7.96l-1.37-1.37c-.4-.4-.92-.59-1.43-.59-.52 0-1.04.2-1.43.59L10.3 9.45l-7.72 7.72c-.78.78-.78 2.05 0 2.83L4 21.41c.39.39.9.59 1.41.59.51 0 1.02-.2 1.41-.59l7.78-7.78 2.81-2.81c.8-.78.8-2.07 0-2.86zM5.41 20L4 18.59l7.72-7.72 1.47 1.35L5.41 20z\"/>\n",
              "  </svg>\n",
              "      </button>\n",
              "\n",
              "\n",
              "\n",
              "    <div id=\"df-feb4c9e5-373a-4d18-a325-e11e27bbfabf\">\n",
              "      <button class=\"colab-df-quickchart\" onclick=\"quickchart('df-feb4c9e5-373a-4d18-a325-e11e27bbfabf')\"\n",
              "              title=\"Suggest charts.\"\n",
              "              style=\"display:none;\">\n",
              "\n",
              "<svg xmlns=\"http://www.w3.org/2000/svg\" height=\"24px\"viewBox=\"0 0 24 24\"\n",
              "     width=\"24px\">\n",
              "    <g>\n",
              "        <path d=\"M19 3H5c-1.1 0-2 .9-2 2v14c0 1.1.9 2 2 2h14c1.1 0 2-.9 2-2V5c0-1.1-.9-2-2-2zM9 17H7v-7h2v7zm4 0h-2V7h2v10zm4 0h-2v-4h2v4z\"/>\n",
              "    </g>\n",
              "</svg>\n",
              "      </button>\n",
              "    </div>\n",
              "\n",
              "<style>\n",
              "  .colab-df-quickchart {\n",
              "    background-color: #E8F0FE;\n",
              "    border: none;\n",
              "    border-radius: 50%;\n",
              "    cursor: pointer;\n",
              "    display: none;\n",
              "    fill: #1967D2;\n",
              "    height: 32px;\n",
              "    padding: 0 0 0 0;\n",
              "    width: 32px;\n",
              "  }\n",
              "\n",
              "  .colab-df-quickchart:hover {\n",
              "    background-color: #E2EBFA;\n",
              "    box-shadow: 0px 1px 2px rgba(60, 64, 67, 0.3), 0px 1px 3px 1px rgba(60, 64, 67, 0.15);\n",
              "    fill: #174EA6;\n",
              "  }\n",
              "\n",
              "  [theme=dark] .colab-df-quickchart {\n",
              "    background-color: #3B4455;\n",
              "    fill: #D2E3FC;\n",
              "  }\n",
              "\n",
              "  [theme=dark] .colab-df-quickchart:hover {\n",
              "    background-color: #434B5C;\n",
              "    box-shadow: 0px 1px 3px 1px rgba(0, 0, 0, 0.15);\n",
              "    filter: drop-shadow(0px 1px 2px rgba(0, 0, 0, 0.3));\n",
              "    fill: #FFFFFF;\n",
              "  }\n",
              "</style>\n",
              "\n",
              "    <script>\n",
              "      async function quickchart(key) {\n",
              "        const containerElement = document.querySelector('#' + key);\n",
              "        const charts = await google.colab.kernel.invokeFunction(\n",
              "            'suggestCharts', [key], {});\n",
              "      }\n",
              "    </script>\n",
              "\n",
              "      <script>\n",
              "\n",
              "function displayQuickchartButton(domScope) {\n",
              "  let quickchartButtonEl =\n",
              "    domScope.querySelector('#df-feb4c9e5-373a-4d18-a325-e11e27bbfabf button.colab-df-quickchart');\n",
              "  quickchartButtonEl.style.display =\n",
              "    google.colab.kernel.accessAllowed ? 'block' : 'none';\n",
              "}\n",
              "\n",
              "        displayQuickchartButton(document);\n",
              "      </script>\n",
              "      <style>\n",
              "    .colab-df-container {\n",
              "      display:flex;\n",
              "      flex-wrap:wrap;\n",
              "      gap: 12px;\n",
              "    }\n",
              "\n",
              "    .colab-df-convert {\n",
              "      background-color: #E8F0FE;\n",
              "      border: none;\n",
              "      border-radius: 50%;\n",
              "      cursor: pointer;\n",
              "      display: none;\n",
              "      fill: #1967D2;\n",
              "      height: 32px;\n",
              "      padding: 0 0 0 0;\n",
              "      width: 32px;\n",
              "    }\n",
              "\n",
              "    .colab-df-convert:hover {\n",
              "      background-color: #E2EBFA;\n",
              "      box-shadow: 0px 1px 2px rgba(60, 64, 67, 0.3), 0px 1px 3px 1px rgba(60, 64, 67, 0.15);\n",
              "      fill: #174EA6;\n",
              "    }\n",
              "\n",
              "    [theme=dark] .colab-df-convert {\n",
              "      background-color: #3B4455;\n",
              "      fill: #D2E3FC;\n",
              "    }\n",
              "\n",
              "    [theme=dark] .colab-df-convert:hover {\n",
              "      background-color: #434B5C;\n",
              "      box-shadow: 0px 1px 3px 1px rgba(0, 0, 0, 0.15);\n",
              "      filter: drop-shadow(0px 1px 2px rgba(0, 0, 0, 0.3));\n",
              "      fill: #FFFFFF;\n",
              "    }\n",
              "  </style>\n",
              "\n",
              "      <script>\n",
              "        const buttonEl =\n",
              "          document.querySelector('#df-95f8bb05-bb68-42b2-b06a-9393ac78c9cc button.colab-df-convert');\n",
              "        buttonEl.style.display =\n",
              "          google.colab.kernel.accessAllowed ? 'block' : 'none';\n",
              "\n",
              "        async function convertToInteractive(key) {\n",
              "          const element = document.querySelector('#df-95f8bb05-bb68-42b2-b06a-9393ac78c9cc');\n",
              "          const dataTable =\n",
              "            await google.colab.kernel.invokeFunction('convertToInteractive',\n",
              "                                                     [key], {});\n",
              "          if (!dataTable) return;\n",
              "\n",
              "          const docLinkHtml = 'Like what you see? Visit the ' +\n",
              "            '<a target=\"_blank\" href=https://colab.research.google.com/notebooks/data_table.ipynb>data table notebook</a>'\n",
              "            + ' to learn more about interactive tables.';\n",
              "          element.innerHTML = '';\n",
              "          dataTable['output_type'] = 'display_data';\n",
              "          await google.colab.output.renderOutput(dataTable, element);\n",
              "          const docLink = document.createElement('div');\n",
              "          docLink.innerHTML = docLinkHtml;\n",
              "          element.appendChild(docLink);\n",
              "        }\n",
              "      </script>\n",
              "    </div>\n",
              "  </div>\n"
            ]
          },
          "metadata": {},
          "execution_count": 4
        }
      ]
    },
    {
      "cell_type": "markdown",
      "source": [
        "# **EDA**"
      ],
      "metadata": {
        "id": "bS31RWIX97GW"
      }
    },
    {
      "cell_type": "code",
      "source": [
        "train_set.shape\n"
      ],
      "metadata": {
        "colab": {
          "base_uri": "https://localhost:8080/"
        },
        "id": "ptzzDOf89ofn",
        "outputId": "ef829e63-6358-4f50-8a28-6be613787557"
      },
      "execution_count": 5,
      "outputs": [
        {
          "output_type": "execute_result",
          "data": {
            "text/plain": [
              "(32560, 15)"
            ]
          },
          "metadata": {},
          "execution_count": 5
        }
      ]
    },
    {
      "cell_type": "code",
      "source": [
        "test_set.shape"
      ],
      "metadata": {
        "colab": {
          "base_uri": "https://localhost:8080/"
        },
        "id": "HLT6EbZy9wbU",
        "outputId": "7d77af6c-a4ba-47c0-c0cc-d240c9dc547e"
      },
      "execution_count": 6,
      "outputs": [
        {
          "output_type": "execute_result",
          "data": {
            "text/plain": [
              "(16281, 15)"
            ]
          },
          "metadata": {},
          "execution_count": 6
        }
      ]
    },
    {
      "cell_type": "code",
      "source": [
        "train_set.describe()"
      ],
      "metadata": {
        "colab": {
          "base_uri": "https://localhost:8080/",
          "height": 300
        },
        "id": "oLUcSlbV9yJh",
        "outputId": "87604ece-7414-49e5-8d09-e84f7b076a6b"
      },
      "execution_count": 7,
      "outputs": [
        {
          "output_type": "execute_result",
          "data": {
            "text/plain": [
              "                Age        fnlwgt  Education-Num  Capital Gain  Capital Loss  \\\n",
              "count  32560.000000  3.256000e+04   32560.000000  32560.000000  32560.000000   \n",
              "mean      38.581634  1.897818e+05      10.080590   1077.615172     87.306511   \n",
              "std       13.640642  1.055498e+05       2.572709   7385.402999    402.966116   \n",
              "min       17.000000  1.228500e+04       1.000000      0.000000      0.000000   \n",
              "25%       28.000000  1.178315e+05       9.000000      0.000000      0.000000   \n",
              "50%       37.000000  1.783630e+05      10.000000      0.000000      0.000000   \n",
              "75%       48.000000  2.370545e+05      12.000000      0.000000      0.000000   \n",
              "max       90.000000  1.484705e+06      16.000000  99999.000000   4356.000000   \n",
              "\n",
              "       Hours per week  \n",
              "count    32560.000000  \n",
              "mean        40.437469  \n",
              "std         12.347618  \n",
              "min          1.000000  \n",
              "25%         40.000000  \n",
              "50%         40.000000  \n",
              "75%         45.000000  \n",
              "max         99.000000  "
            ],
            "text/html": [
              "\n",
              "\n",
              "  <div id=\"df-b379fa35-4843-4649-984a-f8f5aeb303fc\">\n",
              "    <div class=\"colab-df-container\">\n",
              "      <div>\n",
              "<style scoped>\n",
              "    .dataframe tbody tr th:only-of-type {\n",
              "        vertical-align: middle;\n",
              "    }\n",
              "\n",
              "    .dataframe tbody tr th {\n",
              "        vertical-align: top;\n",
              "    }\n",
              "\n",
              "    .dataframe thead th {\n",
              "        text-align: right;\n",
              "    }\n",
              "</style>\n",
              "<table border=\"1\" class=\"dataframe\">\n",
              "  <thead>\n",
              "    <tr style=\"text-align: right;\">\n",
              "      <th></th>\n",
              "      <th>Age</th>\n",
              "      <th>fnlwgt</th>\n",
              "      <th>Education-Num</th>\n",
              "      <th>Capital Gain</th>\n",
              "      <th>Capital Loss</th>\n",
              "      <th>Hours per week</th>\n",
              "    </tr>\n",
              "  </thead>\n",
              "  <tbody>\n",
              "    <tr>\n",
              "      <th>count</th>\n",
              "      <td>32560.000000</td>\n",
              "      <td>3.256000e+04</td>\n",
              "      <td>32560.000000</td>\n",
              "      <td>32560.000000</td>\n",
              "      <td>32560.000000</td>\n",
              "      <td>32560.000000</td>\n",
              "    </tr>\n",
              "    <tr>\n",
              "      <th>mean</th>\n",
              "      <td>38.581634</td>\n",
              "      <td>1.897818e+05</td>\n",
              "      <td>10.080590</td>\n",
              "      <td>1077.615172</td>\n",
              "      <td>87.306511</td>\n",
              "      <td>40.437469</td>\n",
              "    </tr>\n",
              "    <tr>\n",
              "      <th>std</th>\n",
              "      <td>13.640642</td>\n",
              "      <td>1.055498e+05</td>\n",
              "      <td>2.572709</td>\n",
              "      <td>7385.402999</td>\n",
              "      <td>402.966116</td>\n",
              "      <td>12.347618</td>\n",
              "    </tr>\n",
              "    <tr>\n",
              "      <th>min</th>\n",
              "      <td>17.000000</td>\n",
              "      <td>1.228500e+04</td>\n",
              "      <td>1.000000</td>\n",
              "      <td>0.000000</td>\n",
              "      <td>0.000000</td>\n",
              "      <td>1.000000</td>\n",
              "    </tr>\n",
              "    <tr>\n",
              "      <th>25%</th>\n",
              "      <td>28.000000</td>\n",
              "      <td>1.178315e+05</td>\n",
              "      <td>9.000000</td>\n",
              "      <td>0.000000</td>\n",
              "      <td>0.000000</td>\n",
              "      <td>40.000000</td>\n",
              "    </tr>\n",
              "    <tr>\n",
              "      <th>50%</th>\n",
              "      <td>37.000000</td>\n",
              "      <td>1.783630e+05</td>\n",
              "      <td>10.000000</td>\n",
              "      <td>0.000000</td>\n",
              "      <td>0.000000</td>\n",
              "      <td>40.000000</td>\n",
              "    </tr>\n",
              "    <tr>\n",
              "      <th>75%</th>\n",
              "      <td>48.000000</td>\n",
              "      <td>2.370545e+05</td>\n",
              "      <td>12.000000</td>\n",
              "      <td>0.000000</td>\n",
              "      <td>0.000000</td>\n",
              "      <td>45.000000</td>\n",
              "    </tr>\n",
              "    <tr>\n",
              "      <th>max</th>\n",
              "      <td>90.000000</td>\n",
              "      <td>1.484705e+06</td>\n",
              "      <td>16.000000</td>\n",
              "      <td>99999.000000</td>\n",
              "      <td>4356.000000</td>\n",
              "      <td>99.000000</td>\n",
              "    </tr>\n",
              "  </tbody>\n",
              "</table>\n",
              "</div>\n",
              "      <button class=\"colab-df-convert\" onclick=\"convertToInteractive('df-b379fa35-4843-4649-984a-f8f5aeb303fc')\"\n",
              "              title=\"Convert this dataframe to an interactive table.\"\n",
              "              style=\"display:none;\">\n",
              "\n",
              "  <svg xmlns=\"http://www.w3.org/2000/svg\" height=\"24px\"viewBox=\"0 0 24 24\"\n",
              "       width=\"24px\">\n",
              "    <path d=\"M0 0h24v24H0V0z\" fill=\"none\"/>\n",
              "    <path d=\"M18.56 5.44l.94 2.06.94-2.06 2.06-.94-2.06-.94-.94-2.06-.94 2.06-2.06.94zm-11 1L8.5 8.5l.94-2.06 2.06-.94-2.06-.94L8.5 2.5l-.94 2.06-2.06.94zm10 10l.94 2.06.94-2.06 2.06-.94-2.06-.94-.94-2.06-.94 2.06-2.06.94z\"/><path d=\"M17.41 7.96l-1.37-1.37c-.4-.4-.92-.59-1.43-.59-.52 0-1.04.2-1.43.59L10.3 9.45l-7.72 7.72c-.78.78-.78 2.05 0 2.83L4 21.41c.39.39.9.59 1.41.59.51 0 1.02-.2 1.41-.59l7.78-7.78 2.81-2.81c.8-.78.8-2.07 0-2.86zM5.41 20L4 18.59l7.72-7.72 1.47 1.35L5.41 20z\"/>\n",
              "  </svg>\n",
              "      </button>\n",
              "\n",
              "\n",
              "\n",
              "    <div id=\"df-2afabda0-cbb9-4d7d-9f91-833577fd6b15\">\n",
              "      <button class=\"colab-df-quickchart\" onclick=\"quickchart('df-2afabda0-cbb9-4d7d-9f91-833577fd6b15')\"\n",
              "              title=\"Suggest charts.\"\n",
              "              style=\"display:none;\">\n",
              "\n",
              "<svg xmlns=\"http://www.w3.org/2000/svg\" height=\"24px\"viewBox=\"0 0 24 24\"\n",
              "     width=\"24px\">\n",
              "    <g>\n",
              "        <path d=\"M19 3H5c-1.1 0-2 .9-2 2v14c0 1.1.9 2 2 2h14c1.1 0 2-.9 2-2V5c0-1.1-.9-2-2-2zM9 17H7v-7h2v7zm4 0h-2V7h2v10zm4 0h-2v-4h2v4z\"/>\n",
              "    </g>\n",
              "</svg>\n",
              "      </button>\n",
              "    </div>\n",
              "\n",
              "<style>\n",
              "  .colab-df-quickchart {\n",
              "    background-color: #E8F0FE;\n",
              "    border: none;\n",
              "    border-radius: 50%;\n",
              "    cursor: pointer;\n",
              "    display: none;\n",
              "    fill: #1967D2;\n",
              "    height: 32px;\n",
              "    padding: 0 0 0 0;\n",
              "    width: 32px;\n",
              "  }\n",
              "\n",
              "  .colab-df-quickchart:hover {\n",
              "    background-color: #E2EBFA;\n",
              "    box-shadow: 0px 1px 2px rgba(60, 64, 67, 0.3), 0px 1px 3px 1px rgba(60, 64, 67, 0.15);\n",
              "    fill: #174EA6;\n",
              "  }\n",
              "\n",
              "  [theme=dark] .colab-df-quickchart {\n",
              "    background-color: #3B4455;\n",
              "    fill: #D2E3FC;\n",
              "  }\n",
              "\n",
              "  [theme=dark] .colab-df-quickchart:hover {\n",
              "    background-color: #434B5C;\n",
              "    box-shadow: 0px 1px 3px 1px rgba(0, 0, 0, 0.15);\n",
              "    filter: drop-shadow(0px 1px 2px rgba(0, 0, 0, 0.3));\n",
              "    fill: #FFFFFF;\n",
              "  }\n",
              "</style>\n",
              "\n",
              "    <script>\n",
              "      async function quickchart(key) {\n",
              "        const containerElement = document.querySelector('#' + key);\n",
              "        const charts = await google.colab.kernel.invokeFunction(\n",
              "            'suggestCharts', [key], {});\n",
              "      }\n",
              "    </script>\n",
              "\n",
              "      <script>\n",
              "\n",
              "function displayQuickchartButton(domScope) {\n",
              "  let quickchartButtonEl =\n",
              "    domScope.querySelector('#df-2afabda0-cbb9-4d7d-9f91-833577fd6b15 button.colab-df-quickchart');\n",
              "  quickchartButtonEl.style.display =\n",
              "    google.colab.kernel.accessAllowed ? 'block' : 'none';\n",
              "}\n",
              "\n",
              "        displayQuickchartButton(document);\n",
              "      </script>\n",
              "      <style>\n",
              "    .colab-df-container {\n",
              "      display:flex;\n",
              "      flex-wrap:wrap;\n",
              "      gap: 12px;\n",
              "    }\n",
              "\n",
              "    .colab-df-convert {\n",
              "      background-color: #E8F0FE;\n",
              "      border: none;\n",
              "      border-radius: 50%;\n",
              "      cursor: pointer;\n",
              "      display: none;\n",
              "      fill: #1967D2;\n",
              "      height: 32px;\n",
              "      padding: 0 0 0 0;\n",
              "      width: 32px;\n",
              "    }\n",
              "\n",
              "    .colab-df-convert:hover {\n",
              "      background-color: #E2EBFA;\n",
              "      box-shadow: 0px 1px 2px rgba(60, 64, 67, 0.3), 0px 1px 3px 1px rgba(60, 64, 67, 0.15);\n",
              "      fill: #174EA6;\n",
              "    }\n",
              "\n",
              "    [theme=dark] .colab-df-convert {\n",
              "      background-color: #3B4455;\n",
              "      fill: #D2E3FC;\n",
              "    }\n",
              "\n",
              "    [theme=dark] .colab-df-convert:hover {\n",
              "      background-color: #434B5C;\n",
              "      box-shadow: 0px 1px 3px 1px rgba(0, 0, 0, 0.15);\n",
              "      filter: drop-shadow(0px 1px 2px rgba(0, 0, 0, 0.3));\n",
              "      fill: #FFFFFF;\n",
              "    }\n",
              "  </style>\n",
              "\n",
              "      <script>\n",
              "        const buttonEl =\n",
              "          document.querySelector('#df-b379fa35-4843-4649-984a-f8f5aeb303fc button.colab-df-convert');\n",
              "        buttonEl.style.display =\n",
              "          google.colab.kernel.accessAllowed ? 'block' : 'none';\n",
              "\n",
              "        async function convertToInteractive(key) {\n",
              "          const element = document.querySelector('#df-b379fa35-4843-4649-984a-f8f5aeb303fc');\n",
              "          const dataTable =\n",
              "            await google.colab.kernel.invokeFunction('convertToInteractive',\n",
              "                                                     [key], {});\n",
              "          if (!dataTable) return;\n",
              "\n",
              "          const docLinkHtml = 'Like what you see? Visit the ' +\n",
              "            '<a target=\"_blank\" href=https://colab.research.google.com/notebooks/data_table.ipynb>data table notebook</a>'\n",
              "            + ' to learn more about interactive tables.';\n",
              "          element.innerHTML = '';\n",
              "          dataTable['output_type'] = 'display_data';\n",
              "          await google.colab.output.renderOutput(dataTable, element);\n",
              "          const docLink = document.createElement('div');\n",
              "          docLink.innerHTML = docLinkHtml;\n",
              "          element.appendChild(docLink);\n",
              "        }\n",
              "      </script>\n",
              "    </div>\n",
              "  </div>\n"
            ]
          },
          "metadata": {},
          "execution_count": 7
        }
      ]
    },
    {
      "cell_type": "markdown",
      "source": [
        "**Checking for Null values**"
      ],
      "metadata": {
        "id": "Jb9lNvD99_V3"
      }
    },
    {
      "cell_type": "code",
      "source": [
        "print(train_set.isnull().sum())"
      ],
      "metadata": {
        "colab": {
          "base_uri": "https://localhost:8080/"
        },
        "id": "38pPYyVf92_I",
        "outputId": "8f9dde39-ebe0-4b39-afdc-d70d6fbd646f"
      },
      "execution_count": 8,
      "outputs": [
        {
          "output_type": "stream",
          "name": "stdout",
          "text": [
            "Age                  0\n",
            "Workclass         1836\n",
            "fnlwgt               0\n",
            "Education            0\n",
            "Education-Num        0\n",
            "Martial Status       0\n",
            "Occupation        1843\n",
            "Relationship         0\n",
            "Race                 0\n",
            "Sex                  0\n",
            "Capital Gain         0\n",
            "Capital Loss         0\n",
            "Hours per week       0\n",
            "Country            583\n",
            "Target               0\n",
            "dtype: int64\n"
          ]
        }
      ]
    },
    {
      "cell_type": "code",
      "source": [
        "train_set.hist(figsize=(10,10))\n",
        "plt.show()"
      ],
      "metadata": {
        "colab": {
          "base_uri": "https://localhost:8080/",
          "height": 853
        },
        "id": "6OkkJAq999b2",
        "outputId": "0f2c7fdd-f335-4ef7-e1dc-6cf41b42b4e3"
      },
      "execution_count": 9,
      "outputs": [
        {
          "output_type": "display_data",
          "data": {
            "text/plain": [
              "<Figure size 1000x1000 with 6 Axes>"
            ],
            "image/png": "[encoded data removed]"
          },
          "metadata": {}
        }
      ]
    },
    {
      "cell_type": "code",
      "source": [
        "train_set.dtypes"
      ],
      "metadata": {
        "colab": {
          "base_uri": "https://localhost:8080/"
        },
        "id": "IyuyzHRk99eD",
        "outputId": "cb57a35a-801b-4917-82f7-5acd14ad5f78"
      },
      "execution_count": 10,
      "outputs": [
        {
          "output_type": "execute_result",
          "data": {
            "text/plain": [
              "Age                int64\n",
              "Workclass         object\n",
              "fnlwgt             int64\n",
              "Education         object\n",
              "Education-Num      int64\n",
              "Martial Status    object\n",
              "Occupation        object\n",
              "Relationship      object\n",
              "Race              object\n",
              "Sex               object\n",
              "Capital Gain       int64\n",
              "Capital Loss       int64\n",
              "Hours per week     int64\n",
              "Country           object\n",
              "Target            object\n",
              "dtype: object"
            ]
          },
          "metadata": {},
          "execution_count": 10
        }
      ]
    },
    {
      "cell_type": "code",
      "source": [
        "for feature in features:\n",
        "    if train_set[feature].dtype == 'object':\n",
        "\n",
        "        print('_'*10,feature, end=\" \",)\n",
        "        print('_'*10)\n",
        "        print(train_set[feature].value_counts())\n",
        ""
      ],
      "metadata": {
        "colab": {
          "base_uri": "https://localhost:8080/"
        },
        "id": "oYnvdOIy99gW",
        "outputId": "a27f4940-2992-4e5e-c293-920124cdf77e"
      },
      "execution_count": 11,
      "outputs": [
        {
          "output_type": "stream",
          "name": "stdout",
          "text": [
            "__________ Workclass __________\n",
            "Private             22696\n",
            "Self-emp-not-inc     2541\n",
            "Local-gov            2093\n",
            "State-gov            1297\n",
            "Self-emp-inc         1116\n",
            "Federal-gov           960\n",
            "Without-pay            14\n",
            "Never-worked            7\n",
            "Name: Workclass, dtype: int64\n",
            "__________ Education __________\n",
            "HS-grad         10501\n",
            "Some-college     7291\n",
            "Bachelors        5354\n",
            "Masters          1723\n",
            "Assoc-voc        1382\n",
            "11th             1175\n",
            "Assoc-acdm       1067\n",
            "10th              933\n",
            "7th-8th           646\n",
            "Prof-school       576\n",
            "9th               514\n",
            "12th              433\n",
            "Doctorate         413\n",
            "5th-6th           333\n",
            "1st-4th           168\n",
            "Preschool          51\n",
            "Name: Education, dtype: int64\n",
            "__________ Martial Status __________\n",
            "Married-civ-spouse       14976\n",
            "Never-married            10682\n",
            "Divorced                  4443\n",
            "Separated                 1025\n",
            "Widowed                    993\n",
            "Married-spouse-absent      418\n",
            "Married-AF-spouse           23\n",
            "Name: Martial Status, dtype: int64\n",
            "__________ Occupation __________\n",
            "Prof-specialty       4140\n",
            "Craft-repair         4099\n",
            "Exec-managerial      4066\n",
            "Adm-clerical         3769\n",
            "Sales                3650\n",
            "Other-service        3295\n",
            "Machine-op-inspct    2002\n",
            "Transport-moving     1597\n",
            "Handlers-cleaners    1370\n",
            "Farming-fishing       994\n",
            "Tech-support          928\n",
            "Protective-serv       649\n",
            "Priv-house-serv       149\n",
            "Armed-Forces            9\n",
            "Name: Occupation, dtype: int64\n",
            "__________ Relationship __________\n",
            "Husband           13193\n",
            "Not-in-family      8304\n",
            "Own-child          5068\n",
            "Unmarried          3446\n",
            "Wife               1568\n",
            "Other-relative      981\n",
            "Name: Relationship, dtype: int64\n",
            "__________ Race __________\n",
            "White                 27815\n",
            "Black                  3124\n",
            "Asian-Pac-Islander     1039\n",
            "Amer-Indian-Eskimo      311\n",
            "Other                   271\n",
            "Name: Race, dtype: int64\n",
            "__________ Sex __________\n",
            "Male      21789\n",
            "Female    10771\n",
            "Name: Sex, dtype: int64\n",
            "__________ Country __________\n",
            "United-States                 29169\n",
            "Mexico                          643\n",
            "Philippines                     198\n",
            "Germany                         137\n",
            "Canada                          121\n",
            "Puerto-Rico                     114\n",
            "El-Salvador                     106\n",
            "India                           100\n",
            "Cuba                             95\n",
            "England                          90\n",
            "Jamaica                          81\n",
            "South                            80\n",
            "China                            75\n",
            "Italy                            73\n",
            "Dominican-Republic               70\n",
            "Vietnam                          67\n",
            "Guatemala                        64\n",
            "Japan                            62\n",
            "Poland                           60\n",
            "Columbia                         59\n",
            "Taiwan                           51\n",
            "Haiti                            44\n",
            "Iran                             43\n",
            "Portugal                         37\n",
            "Nicaragua                        34\n",
            "Peru                             31\n",
            "France                           29\n",
            "Greece                           29\n",
            "Ecuador                          28\n",
            "Ireland                          24\n",
            "Hong                             20\n",
            "Cambodia                         19\n",
            "Trinadad&Tobago                  19\n",
            "Laos                             18\n",
            "Thailand                         18\n",
            "Yugoslavia                       16\n",
            "Outlying-US(Guam-USVI-etc)       14\n",
            "Honduras                         13\n",
            "Hungary                          13\n",
            "Scotland                         12\n",
            "Holand-Netherlands                1\n",
            "Name: Country, dtype: int64\n",
            "__________ Target __________\n",
            "<=50K    24719\n",
            ">50K      7841\n",
            "Name: Target, dtype: int64\n"
          ]
        }
      ]
    },
    {
      "cell_type": "code",
      "source": [
        "import re\n",
        "train_set.rename(columns=lambda name: re.sub(r\"\\-\",'_',name), inplace=True)"
      ],
      "metadata": {
        "id": "ck0-m36n99jI"
      },
      "execution_count": 12,
      "outputs": []
    },
    {
      "cell_type": "code",
      "source": [
        "train_set.head()"
      ],
      "metadata": {
        "colab": {
          "base_uri": "https://localhost:8080/",
          "height": 206
        },
        "id": "YeH54Eus_SJC",
        "outputId": "87784e69-9cf4-4f10-a3de-7f77494fd38b"
      },
      "execution_count": 13,
      "outputs": [
        {
          "output_type": "execute_result",
          "data": {
            "text/plain": [
              "   Age         Workclass  fnlwgt  Education  Education_Num  \\\n",
              "0   50  Self-emp-not-inc   83311  Bachelors             13   \n",
              "1   38           Private  215646    HS-grad              9   \n",
              "2   53           Private  234721       11th              7   \n",
              "3   28           Private  338409  Bachelors             13   \n",
              "4   37           Private  284582    Masters             14   \n",
              "\n",
              "       Martial Status         Occupation   Relationship   Race     Sex  \\\n",
              "0  Married-civ-spouse    Exec-managerial        Husband  White    Male   \n",
              "1            Divorced  Handlers-cleaners  Not-in-family  White    Male   \n",
              "2  Married-civ-spouse  Handlers-cleaners        Husband  Black    Male   \n",
              "3  Married-civ-spouse     Prof-specialty           Wife  Black  Female   \n",
              "4  Married-civ-spouse    Exec-managerial           Wife  White  Female   \n",
              "\n",
              "   Capital Gain  Capital Loss  Hours per week        Country Target  \n",
              "0             0             0              13  United-States  <=50K  \n",
              "1             0             0              40  United-States  <=50K  \n",
              "2             0             0              40  United-States  <=50K  \n",
              "3             0             0              40           Cuba  <=50K  \n",
              "4             0             0              40  United-States  <=50K  "
            ],
            "text/html": [
              "\n",
              "\n",
              "  <div id=\"df-9d1147e9-7b7d-488f-9f38-6b4ae0b367bd\">\n",
              "    <div class=\"colab-df-container\">\n",
              "      <div>\n",
              "<style scoped>\n",
              "    .dataframe tbody tr th:only-of-type {\n",
              "        vertical-align: middle;\n",
              "    }\n",
              "\n",
              "    .dataframe tbody tr th {\n",
              "        vertical-align: top;\n",
              "    }\n",
              "\n",
              "    .dataframe thead th {\n",
              "        text-align: right;\n",
              "    }\n",
              "</style>\n",
              "<table border=\"1\" class=\"dataframe\">\n",
              "  <thead>\n",
              "    <tr style=\"text-align: right;\">\n",
              "      <th></th>\n",
              "      <th>Age</th>\n",
              "      <th>Workclass</th>\n",
              "      <th>fnlwgt</th>\n",
              "      <th>Education</th>\n",
              "      <th>Education_Num</th>\n",
              "      <th>Martial Status</th>\n",
              "      <th>Occupation</th>\n",
              "      <th>Relationship</th>\n",
              "      <th>Race</th>\n",
              "      <th>Sex</th>\n",
              "      <th>Capital Gain</th>\n",
              "      <th>Capital Loss</th>\n",
              "      <th>Hours per week</th>\n",
              "      <th>Country</th>\n",
              "      <th>Target</th>\n",
              "    </tr>\n",
              "  </thead>\n",
              "  <tbody>\n",
              "    <tr>\n",
              "      <th>0</th>\n",
              "      <td>50</td>\n",
              "      <td>Self-emp-not-inc</td>\n",
              "      <td>83311</td>\n",
              "      <td>Bachelors</td>\n",
              "      <td>13</td>\n",
              "      <td>Married-civ-spouse</td>\n",
              "      <td>Exec-managerial</td>\n",
              "      <td>Husband</td>\n",
              "      <td>White</td>\n",
              "      <td>Male</td>\n",
              "      <td>0</td>\n",
              "      <td>0</td>\n",
              "      <td>13</td>\n",
              "      <td>United-States</td>\n",
              "      <td>&lt;=50K</td>\n",
              "    </tr>\n",
              "    <tr>\n",
              "      <th>1</th>\n",
              "      <td>38</td>\n",
              "      <td>Private</td>\n",
              "      <td>215646</td>\n",
              "      <td>HS-grad</td>\n",
              "      <td>9</td>\n",
              "      <td>Divorced</td>\n",
              "      <td>Handlers-cleaners</td>\n",
              "      <td>Not-in-family</td>\n",
              "      <td>White</td>\n",
              "      <td>Male</td>\n",
              "      <td>0</td>\n",
              "      <td>0</td>\n",
              "      <td>40</td>\n",
              "      <td>United-States</td>\n",
              "      <td>&lt;=50K</td>\n",
              "    </tr>\n",
              "    <tr>\n",
              "      <th>2</th>\n",
              "      <td>53</td>\n",
              "      <td>Private</td>\n",
              "      <td>234721</td>\n",
              "      <td>11th</td>\n",
              "      <td>7</td>\n",
              "      <td>Married-civ-spouse</td>\n",
              "      <td>Handlers-cleaners</td>\n",
              "      <td>Husband</td>\n",
              "      <td>Black</td>\n",
              "      <td>Male</td>\n",
              "      <td>0</td>\n",
              "      <td>0</td>\n",
              "      <td>40</td>\n",
              "      <td>United-States</td>\n",
              "      <td>&lt;=50K</td>\n",
              "    </tr>\n",
              "    <tr>\n",
              "      <th>3</th>\n",
              "      <td>28</td>\n",
              "      <td>Private</td>\n",
              "      <td>338409</td>\n",
              "      <td>Bachelors</td>\n",
              "      <td>13</td>\n",
              "      <td>Married-civ-spouse</td>\n",
              "      <td>Prof-specialty</td>\n",
              "      <td>Wife</td>\n",
              "      <td>Black</td>\n",
              "      <td>Female</td>\n",
              "      <td>0</td>\n",
              "      <td>0</td>\n",
              "      <td>40</td>\n",
              "      <td>Cuba</td>\n",
              "      <td>&lt;=50K</td>\n",
              "    </tr>\n",
              "    <tr>\n",
              "      <th>4</th>\n",
              "      <td>37</td>\n",
              "      <td>Private</td>\n",
              "      <td>284582</td>\n",
              "      <td>Masters</td>\n",
              "      <td>14</td>\n",
              "      <td>Married-civ-spouse</td>\n",
              "      <td>Exec-managerial</td>\n",
              "      <td>Wife</td>\n",
              "      <td>White</td>\n",
              "      <td>Female</td>\n",
              "      <td>0</td>\n",
              "      <td>0</td>\n",
              "      <td>40</td>\n",
              "      <td>United-States</td>\n",
              "      <td>&lt;=50K</td>\n",
              "    </tr>\n",
              "  </tbody>\n",
              "</table>\n",
              "</div>\n",
              "      <button class=\"colab-df-convert\" onclick=\"convertToInteractive('df-9d1147e9-7b7d-488f-9f38-6b4ae0b367bd')\"\n",
              "              title=\"Convert this dataframe to an interactive table.\"\n",
              "              style=\"display:none;\">\n",
              "\n",
              "  <svg xmlns=\"http://www.w3.org/2000/svg\" height=\"24px\"viewBox=\"0 0 24 24\"\n",
              "       width=\"24px\">\n",
              "    <path d=\"M0 0h24v24H0V0z\" fill=\"none\"/>\n",
              "    <path d=\"M18.56 5.44l.94 2.06.94-2.06 2.06-.94-2.06-.94-.94-2.06-.94 2.06-2.06.94zm-11 1L8.5 8.5l.94-2.06 2.06-.94-2.06-.94L8.5 2.5l-.94 2.06-2.06.94zm10 10l.94 2.06.94-2.06 2.06-.94-2.06-.94-.94-2.06-.94 2.06-2.06.94z\"/><path d=\"M17.41 7.96l-1.37-1.37c-.4-.4-.92-.59-1.43-.59-.52 0-1.04.2-1.43.59L10.3 9.45l-7.72 7.72c-.78.78-.78 2.05 0 2.83L4 21.41c.39.39.9.59 1.41.59.51 0 1.02-.2 1.41-.59l7.78-7.78 2.81-2.81c.8-.78.8-2.07 0-2.86zM5.41 20L4 18.59l7.72-7.72 1.47 1.35L5.41 20z\"/>\n",
              "  </svg>\n",
              "      </button>\n",
              "\n",
              "\n",
              "\n",
              "    <div id=\"df-d0834560-61d4-4102-bbf3-6a1f9f2f95b7\">\n",
              "      <button class=\"colab-df-quickchart\" onclick=\"quickchart('df-d0834560-61d4-4102-bbf3-6a1f9f2f95b7')\"\n",
              "              title=\"Suggest charts.\"\n",
              "              style=\"display:none;\">\n",
              "\n",
              "<svg xmlns=\"http://www.w3.org/2000/svg\" height=\"24px\"viewBox=\"0 0 24 24\"\n",
              "     width=\"24px\">\n",
              "    <g>\n",
              "        <path d=\"M19 3H5c-1.1 0-2 .9-2 2v14c0 1.1.9 2 2 2h14c1.1 0 2-.9 2-2V5c0-1.1-.9-2-2-2zM9 17H7v-7h2v7zm4 0h-2V7h2v10zm4 0h-2v-4h2v4z\"/>\n",
              "    </g>\n",
              "</svg>\n",
              "      </button>\n",
              "    </div>\n",
              "\n",
              "<style>\n",
              "  .colab-df-quickchart {\n",
              "    background-color: #E8F0FE;\n",
              "    border: none;\n",
              "    border-radius: 50%;\n",
              "    cursor: pointer;\n",
              "    display: none;\n",
              "    fill: #1967D2;\n",
              "    height: 32px;\n",
              "    padding: 0 0 0 0;\n",
              "    width: 32px;\n",
              "  }\n",
              "\n",
              "  .colab-df-quickchart:hover {\n",
              "    background-color: #E2EBFA;\n",
              "    box-shadow: 0px 1px 2px rgba(60, 64, 67, 0.3), 0px 1px 3px 1px rgba(60, 64, 67, 0.15);\n",
              "    fill: #174EA6;\n",
              "  }\n",
              "\n",
              "  [theme=dark] .colab-df-quickchart {\n",
              "    background-color: #3B4455;\n",
              "    fill: #D2E3FC;\n",
              "  }\n",
              "\n",
              "  [theme=dark] .colab-df-quickchart:hover {\n",
              "    background-color: #434B5C;\n",
              "    box-shadow: 0px 1px 3px 1px rgba(0, 0, 0, 0.15);\n",
              "    filter: drop-shadow(0px 1px 2px rgba(0, 0, 0, 0.3));\n",
              "    fill: #FFFFFF;\n",
              "  }\n",
              "</style>\n",
              "\n",
              "    <script>\n",
              "      async function quickchart(key) {\n",
              "        const containerElement = document.querySelector('#' + key);\n",
              "        const charts = await google.colab.kernel.invokeFunction(\n",
              "            'suggestCharts', [key], {});\n",
              "      }\n",
              "    </script>\n",
              "\n",
              "      <script>\n",
              "\n",
              "function displayQuickchartButton(domScope) {\n",
              "  let quickchartButtonEl =\n",
              "    domScope.querySelector('#df-d0834560-61d4-4102-bbf3-6a1f9f2f95b7 button.colab-df-quickchart');\n",
              "  quickchartButtonEl.style.display =\n",
              "    google.colab.kernel.accessAllowed ? 'block' : 'none';\n",
              "}\n",
              "\n",
              "        displayQuickchartButton(document);\n",
              "      </script>\n",
              "      <style>\n",
              "    .colab-df-container {\n",
              "      display:flex;\n",
              "      flex-wrap:wrap;\n",
              "      gap: 12px;\n",
              "    }\n",
              "\n",
              "    .colab-df-convert {\n",
              "      background-color: #E8F0FE;\n",
              "      border: none;\n",
              "      border-radius: 50%;\n",
              "      cursor: pointer;\n",
              "      display: none;\n",
              "      fill: #1967D2;\n",
              "      height: 32px;\n",
              "      padding: 0 0 0 0;\n",
              "      width: 32px;\n",
              "    }\n",
              "\n",
              "    .colab-df-convert:hover {\n",
              "      background-color: #E2EBFA;\n",
              "      box-shadow: 0px 1px 2px rgba(60, 64, 67, 0.3), 0px 1px 3px 1px rgba(60, 64, 67, 0.15);\n",
              "      fill: #174EA6;\n",
              "    }\n",
              "\n",
              "    [theme=dark] .colab-df-convert {\n",
              "      background-color: #3B4455;\n",
              "      fill: #D2E3FC;\n",
              "    }\n",
              "\n",
              "    [theme=dark] .colab-df-convert:hover {\n",
              "      background-color: #434B5C;\n",
              "      box-shadow: 0px 1px 3px 1px rgba(0, 0, 0, 0.15);\n",
              "      filter: drop-shadow(0px 1px 2px rgba(0, 0, 0, 0.3));\n",
              "      fill: #FFFFFF;\n",
              "    }\n",
              "  </style>\n",
              "\n",
              "      <script>\n",
              "        const buttonEl =\n",
              "          document.querySelector('#df-9d1147e9-7b7d-488f-9f38-6b4ae0b367bd button.colab-df-convert');\n",
              "        buttonEl.style.display =\n",
              "          google.colab.kernel.accessAllowed ? 'block' : 'none';\n",
              "\n",
              "        async function convertToInteractive(key) {\n",
              "          const element = document.querySelector('#df-9d1147e9-7b7d-488f-9f38-6b4ae0b367bd');\n",
              "          const dataTable =\n",
              "            await google.colab.kernel.invokeFunction('convertToInteractive',\n",
              "                                                     [key], {});\n",
              "          if (!dataTable) return;\n",
              "\n",
              "          const docLinkHtml = 'Like what you see? Visit the ' +\n",
              "            '<a target=\"_blank\" href=https://colab.research.google.com/notebooks/data_table.ipynb>data table notebook</a>'\n",
              "            + ' to learn more about interactive tables.';\n",
              "          element.innerHTML = '';\n",
              "          dataTable['output_type'] = 'display_data';\n",
              "          await google.colab.output.renderOutput(dataTable, element);\n",
              "          const docLink = document.createElement('div');\n",
              "          docLink.innerHTML = docLinkHtml;\n",
              "          element.appendChild(docLink);\n",
              "        }\n",
              "      </script>\n",
              "    </div>\n",
              "  </div>\n"
            ]
          },
          "metadata": {},
          "execution_count": 13
        }
      ]
    },
    {
      "cell_type": "code",
      "source": [
        "test_set.isnull().sum()"
      ],
      "metadata": {
        "colab": {
          "base_uri": "https://localhost:8080/"
        },
        "id": "5ARIpK1y_SQN",
        "outputId": "8760a495-28cf-4e0e-f95e-b361ee2d5a02"
      },
      "execution_count": 14,
      "outputs": [
        {
          "output_type": "execute_result",
          "data": {
            "text/plain": [
              "Age                 0\n",
              "Workclass         963\n",
              "fnlwgt              0\n",
              "Education           0\n",
              "Education-Num       0\n",
              "Martial Status      0\n",
              "Occupation        966\n",
              "Relationship        0\n",
              "Race                0\n",
              "Sex                 0\n",
              "Capital Gain        0\n",
              "Capital Loss        0\n",
              "Hours per week      0\n",
              "Country           274\n",
              "Target              0\n",
              "dtype: int64"
            ]
          },
          "metadata": {},
          "execution_count": 14
        }
      ]
    },
    {
      "cell_type": "code",
      "source": [
        "mode_values = test_set[['Workclass', 'Occupation', 'Country']].mode().iloc[0]\n",
        "\n",
        "# Fill missing values with the mode for each column\n",
        "test_set['Workclass'].fillna(mode_values['Workclass'], inplace=True)\n",
        "test_set['Occupation'].fillna(mode_values['Occupation'], inplace=True)\n",
        "test_set['Country'].fillna(mode_values['Country'], inplace=True)\n"
      ],
      "metadata": {
        "id": "qG4LgAun_SSt"
      },
      "execution_count": 15,
      "outputs": []
    },
    {
      "cell_type": "code",
      "source": [
        "test_set.isnull().sum()"
      ],
      "metadata": {
        "colab": {
          "base_uri": "https://localhost:8080/"
        },
        "id": "4LtCY6q599lG",
        "outputId": "e79abee3-53a1-474d-8ac5-d6ae00b4b1f9"
      },
      "execution_count": 16,
      "outputs": [
        {
          "output_type": "execute_result",
          "data": {
            "text/plain": [
              "Age               0\n",
              "Workclass         0\n",
              "fnlwgt            0\n",
              "Education         0\n",
              "Education-Num     0\n",
              "Martial Status    0\n",
              "Occupation        0\n",
              "Relationship      0\n",
              "Race              0\n",
              "Sex               0\n",
              "Capital Gain      0\n",
              "Capital Loss      0\n",
              "Hours per week    0\n",
              "Country           0\n",
              "Target            0\n",
              "dtype: int64"
            ]
          },
          "metadata": {},
          "execution_count": 16
        }
      ]
    },
    {
      "cell_type": "code",
      "source": [
        "train_set.Target.value_counts()"
      ],
      "metadata": {
        "colab": {
          "base_uri": "https://localhost:8080/"
        },
        "id": "Dw2pfs9yAtLh",
        "outputId": "1f4bd482-41b9-4f19-d72e-d456b4101d25"
      },
      "execution_count": 17,
      "outputs": [
        {
          "output_type": "execute_result",
          "data": {
            "text/plain": [
              "<=50K    24719\n",
              ">50K      7841\n",
              "Name: Target, dtype: int64"
            ]
          },
          "metadata": {},
          "execution_count": 17
        }
      ]
    },
    {
      "cell_type": "markdown",
      "source": [
        "**Applying One Hot Encoding**"
      ],
      "metadata": {
        "id": "wT3ptqdhA4VP"
      }
    },
    {
      "cell_type": "code",
      "source": [
        "df1 = train_set.copy()\n",
        "\n",
        "objectFeature = []\n",
        "for i in list(df1.columns):\n",
        "    if (df1[i].dtypes == 'object'):\n",
        "        objectFeature.append(i)\n",
        "\n",
        "\n",
        "df1=pd.get_dummies(df1[objectFeature[:-1]])"
      ],
      "metadata": {
        "id": "2Qx2mhk3AyM1"
      },
      "execution_count": 18,
      "outputs": []
    },
    {
      "cell_type": "code",
      "source": [
        "intFeature = []\n",
        "for i in list(train_set.columns):\n",
        "    if (train_set[i].dtypes == 'int64'):\n",
        "        intFeature.append(i)\n",
        "\n",
        "df2 = train_set[intFeature]"
      ],
      "metadata": {
        "id": "tlvpsw7WA8t_"
      },
      "execution_count": 19,
      "outputs": []
    },
    {
      "cell_type": "code",
      "source": [
        "print(df1.shape)\n",
        "print(df2.shape)"
      ],
      "metadata": {
        "colab": {
          "base_uri": "https://localhost:8080/"
        },
        "id": "nYrfHOHRA-v7",
        "outputId": "6d3130a6-0824-45e3-f1e4-cdab635bd468"
      },
      "execution_count": 20,
      "outputs": [
        {
          "output_type": "stream",
          "name": "stdout",
          "text": [
            "(32560, 99)\n",
            "(32560, 6)\n"
          ]
        }
      ]
    },
    {
      "cell_type": "markdown",
      "source": [
        "**Concatinating the two frames**"
      ],
      "metadata": {
        "id": "uWw0TlOZBEuD"
      }
    },
    {
      "cell_type": "code",
      "source": [
        "X_train = pd.concat([df1, df2], axis=1)"
      ],
      "metadata": {
        "id": "wjV6SaWJBBZ-"
      },
      "execution_count": 21,
      "outputs": []
    },
    {
      "cell_type": "code",
      "source": [
        "X_train.shape"
      ],
      "metadata": {
        "colab": {
          "base_uri": "https://localhost:8080/"
        },
        "id": "eOZX-Fe4BHzi",
        "outputId": "224dcd2a-cfb0-4a3c-e020-3a32d85e3124"
      },
      "execution_count": 22,
      "outputs": [
        {
          "output_type": "execute_result",
          "data": {
            "text/plain": [
              "(32560, 105)"
            ]
          },
          "metadata": {},
          "execution_count": 22
        }
      ]
    },
    {
      "cell_type": "code",
      "source": [
        "y=train_set[objectFeature[-1]]"
      ],
      "metadata": {
        "id": "kBGn83f6BJdU"
      },
      "execution_count": 23,
      "outputs": []
    },
    {
      "cell_type": "markdown",
      "source": [
        "**LabelEncoder over the target variable**"
      ],
      "metadata": {
        "id": "QCZgGwjZBNYX"
      }
    },
    {
      "cell_type": "code",
      "source": [
        "from sklearn import preprocessing\n",
        "le = preprocessing.LabelEncoder()\n",
        "le.fit(y)\n",
        "le.classes_   # will display only two classes---> array([' <=50K', ' >50K'], dtype=object)y_train\n",
        "y_train=le.fit_transform(y)"
      ],
      "metadata": {
        "id": "DNp75RtIBLrR"
      },
      "execution_count": 24,
      "outputs": []
    },
    {
      "cell_type": "code",
      "source": [
        "y_train"
      ],
      "metadata": {
        "colab": {
          "base_uri": "https://localhost:8080/"
        },
        "id": "GK7y9UuwBUwN",
        "outputId": "1da97ff9-c2a4-42fc-c16e-2c3a25bd9def"
      },
      "execution_count": 25,
      "outputs": [
        {
          "output_type": "execute_result",
          "data": {
            "text/plain": [
              "array([0, 0, 0, ..., 0, 0, 1])"
            ]
          },
          "metadata": {},
          "execution_count": 25
        }
      ]
    },
    {
      "cell_type": "markdown",
      "source": [
        "## **Applying XGB**"
      ],
      "metadata": {
        "id": "wO6ug1BMB4kW"
      }
    },
    {
      "cell_type": "code",
      "source": [
        "from xgboost.sklearn import XGBClassifier\n",
        "from sklearn.model_selection import train_test_split\n",
        "from sklearn.metrics import accuracy_score"
      ],
      "metadata": {
        "id": "Y05amUvgBzlF"
      },
      "execution_count": 26,
      "outputs": []
    },
    {
      "cell_type": "code",
      "source": [
        "params = {\n",
        "    'objective': 'binary:logistic',\n",
        "    'max_depth': 2,\n",
        "    'learning_rate': .5,\n",
        "    'silent': True,    # would be boolean in sklearn\n",
        "    'n_estimators': 100\n",
        "}"
      ],
      "metadata": {
        "id": "EfhdUNdUB7Zh"
      },
      "execution_count": 27,
      "outputs": []
    },
    {
      "cell_type": "code",
      "source": [
        "x_train, x_test, y_t1, y_t2 =train_test_split(X_train, y_train, test_size=.25)"
      ],
      "metadata": {
        "id": "_z6V1pv3B7b-"
      },
      "execution_count": 28,
      "outputs": []
    },
    {
      "cell_type": "code",
      "source": [
        "x_train.shape, x_test.shape, y_t1.shape, y_t2.shape"
      ],
      "metadata": {
        "colab": {
          "base_uri": "https://localhost:8080/"
        },
        "id": "Nna4b3JGB7eg",
        "outputId": "b505345d-ef05-4681-a32d-922c6bd47fcc"
      },
      "execution_count": 29,
      "outputs": [
        {
          "output_type": "execute_result",
          "data": {
            "text/plain": [
              "((24420, 105), (8140, 105), (24420,), (8140,))"
            ]
          },
          "metadata": {},
          "execution_count": 29
        }
      ]
    },
    {
      "cell_type": "code",
      "source": [
        "xgb = XGBClassifier(**params).fit(x_train,y_t1)"
      ],
      "metadata": {
        "colab": {
          "base_uri": "https://localhost:8080/"
        },
        "id": "FXZvbH7_CITB",
        "outputId": "36570a72-9ecc-444b-b080-416a38ec914c"
      },
      "execution_count": 30,
      "outputs": [
        {
          "output_type": "stream",
          "name": "stdout",
          "text": [
            "[02:02:22] WARNING: ../src/learner.cc:767: \n",
            "Parameters: { \"silent\" } are not used.\n",
            "\n"
          ]
        }
      ]
    },
    {
      "cell_type": "code",
      "source": [
        "y_pred= xgb.predict(x_test)"
      ],
      "metadata": {
        "id": "-LC2Ck6fCKW9"
      },
      "execution_count": 31,
      "outputs": []
    },
    {
      "cell_type": "code",
      "source": [
        "accuracy_score(y_t2, y_pred)"
      ],
      "metadata": {
        "colab": {
          "base_uri": "https://localhost:8080/"
        },
        "id": "31B03P_bCQ0l",
        "outputId": "f4d5edca-730f-4fc6-a58c-f9efb5c98606"
      },
      "execution_count": 32,
      "outputs": [
        {
          "output_type": "execute_result",
          "data": {
            "text/plain": [
              "0.871007371007371"
            ]
          },
          "metadata": {},
          "execution_count": 32
        }
      ]
    },
    {
      "cell_type": "markdown",
      "source": [
        "**Test Set**"
      ],
      "metadata": {
        "id": "y2j9iKOkCey7"
      }
    },
    {
      "cell_type": "code",
      "source": [
        "eval_set = [(x_train, y_t1), (x_test, y_t2)]\n",
        "xgb1 = XGBClassifier(**params).fit(x_train, y_t1,\n",
        "                                   early_stopping_rounds=15,\n",
        "                                   eval_metric=[\"error\", \"logloss\"],\n",
        "                                   eval_set=eval_set,\n",
        "                                   verbose=True)"
      ],
      "metadata": {
        "colab": {
          "base_uri": "https://localhost:8080/"
        },
        "id": "tDd_tQxjCSoo",
        "outputId": "2b4e1220-8185-4dd3-9553-d35043f63218"
      },
      "execution_count": 35,
      "outputs": [
        {
          "output_type": "stream",
          "name": "stdout",
          "text": [
            "[02:04:59] WARNING: ../src/learner.cc:767: \n",
            "Parameters: { \"silent\" } are not used.\n",
            "\n",
            "[0]\tvalidation_0-error:0.17039\tvalidation_0-logloss:0.50170\tvalidation_1-error:0.17592\tvalidation_1-logloss:0.50530\n",
            "[1]\tvalidation_0-error:0.15463\tvalidation_0-logloss:0.42750\tvalidation_1-error:0.16106\tvalidation_1-logloss:0.43395\n",
            "[2]\tvalidation_0-error:0.15459\tvalidation_0-logloss:0.39290\tvalidation_1-error:0.16057\tvalidation_1-logloss:0.40122\n",
            "[3]\tvalidation_0-error:0.15156\tvalidation_0-logloss:0.36930\tvalidation_1-error:0.15553\tvalidation_1-logloss:0.37736\n",
            "[4]\tvalidation_0-error:0.14816\tvalidation_0-logloss:0.35434\tvalidation_1-error:0.15209\tvalidation_1-logloss:0.36304\n",
            "[5]\tvalidation_0-error:0.14930\tvalidation_0-logloss:0.34383\tvalidation_1-error:0.15307\tvalidation_1-logloss:0.35335\n",
            "[6]\tvalidation_0-error:0.14865\tvalidation_0-logloss:0.33635\tvalidation_1-error:0.15209\tvalidation_1-logloss:0.34623\n",
            "[7]\tvalidation_0-error:0.14672\tvalidation_0-logloss:0.33001\tvalidation_1-error:0.14865\tvalidation_1-logloss:0.33878\n",
            "[8]\tvalidation_0-error:0.14562\tvalidation_0-logloss:0.32501\tvalidation_1-error:0.14668\tvalidation_1-logloss:0.33500\n",
            "[9]\tvalidation_0-error:0.14554\tvalidation_0-logloss:0.32142\tvalidation_1-error:0.14619\tvalidation_1-logloss:0.33084\n",
            "[10]\tvalidation_0-error:0.14500\tvalidation_0-logloss:0.31839\tvalidation_1-error:0.14644\tvalidation_1-logloss:0.32819\n",
            "[11]\tvalidation_0-error:0.14492\tvalidation_0-logloss:0.31511\tvalidation_1-error:0.14533\tvalidation_1-logloss:0.32441\n",
            "[12]\tvalidation_0-error:0.14517\tvalidation_0-logloss:0.31303\tvalidation_1-error:0.14533\tvalidation_1-logloss:0.32266\n",
            "[13]\tvalidation_0-error:0.14439\tvalidation_0-logloss:0.31081\tvalidation_1-error:0.14398\tvalidation_1-logloss:0.32029\n",
            "[14]\tvalidation_0-error:0.14378\tvalidation_0-logloss:0.30809\tvalidation_1-error:0.14312\tvalidation_1-logloss:0.31772\n",
            "[15]\tvalidation_0-error:0.14271\tvalidation_0-logloss:0.30572\tvalidation_1-error:0.14251\tvalidation_1-logloss:0.31547\n",
            "[16]\tvalidation_0-error:0.14156\tvalidation_0-logloss:0.30428\tvalidation_1-error:0.14238\tvalidation_1-logloss:0.31469\n",
            "[17]\tvalidation_0-error:0.14095\tvalidation_0-logloss:0.30314\tvalidation_1-error:0.14201\tvalidation_1-logloss:0.31380\n",
            "[18]\tvalidation_0-error:0.14070\tvalidation_0-logloss:0.30206\tvalidation_1-error:0.14177\tvalidation_1-logloss:0.31295\n",
            "[19]\tvalidation_0-error:0.14042\tvalidation_0-logloss:0.30092\tvalidation_1-error:0.14091\tvalidation_1-logloss:0.31162\n",
            "[20]\tvalidation_0-error:0.14042\tvalidation_0-logloss:0.30002\tvalidation_1-error:0.14079\tvalidation_1-logloss:0.31038\n",
            "[21]\tvalidation_0-error:0.14001\tvalidation_0-logloss:0.29913\tvalidation_1-error:0.14054\tvalidation_1-logloss:0.30984\n",
            "[22]\tvalidation_0-error:0.13939\tvalidation_0-logloss:0.29787\tvalidation_1-error:0.14066\tvalidation_1-logloss:0.30835\n",
            "[23]\tvalidation_0-error:0.13919\tvalidation_0-logloss:0.29712\tvalidation_1-error:0.14042\tvalidation_1-logloss:0.30740\n",
            "[24]\tvalidation_0-error:0.13886\tvalidation_0-logloss:0.29606\tvalidation_1-error:0.14042\tvalidation_1-logloss:0.30673\n",
            "[25]\tvalidation_0-error:0.13800\tvalidation_0-logloss:0.29532\tvalidation_1-error:0.13894\tvalidation_1-logloss:0.30625\n",
            "[26]\tvalidation_0-error:0.13731\tvalidation_0-logloss:0.29456\tvalidation_1-error:0.13907\tvalidation_1-logloss:0.30567\n",
            "[27]\tvalidation_0-error:0.13698\tvalidation_0-logloss:0.29397\tvalidation_1-error:0.13857\tvalidation_1-logloss:0.30543\n",
            "[28]\tvalidation_0-error:0.13690\tvalidation_0-logloss:0.29341\tvalidation_1-error:0.13821\tvalidation_1-logloss:0.30495\n",
            "[29]\tvalidation_0-error:0.13616\tvalidation_0-logloss:0.29277\tvalidation_1-error:0.13759\tvalidation_1-logloss:0.30496\n",
            "[30]\tvalidation_0-error:0.13649\tvalidation_0-logloss:0.29220\tvalidation_1-error:0.13722\tvalidation_1-logloss:0.30420\n",
            "[31]\tvalidation_0-error:0.13632\tvalidation_0-logloss:0.29123\tvalidation_1-error:0.13673\tvalidation_1-logloss:0.30328\n",
            "[32]\tvalidation_0-error:0.13632\tvalidation_0-logloss:0.29036\tvalidation_1-error:0.13735\tvalidation_1-logloss:0.30297\n",
            "[33]\tvalidation_0-error:0.13645\tvalidation_0-logloss:0.28978\tvalidation_1-error:0.13612\tvalidation_1-logloss:0.30268\n",
            "[34]\tvalidation_0-error:0.13636\tvalidation_0-logloss:0.28921\tvalidation_1-error:0.13600\tvalidation_1-logloss:0.30241\n",
            "[35]\tvalidation_0-error:0.13616\tvalidation_0-logloss:0.28884\tvalidation_1-error:0.13686\tvalidation_1-logloss:0.30234\n",
            "[36]\tvalidation_0-error:0.13579\tvalidation_0-logloss:0.28810\tvalidation_1-error:0.13698\tvalidation_1-logloss:0.30146\n",
            "[37]\tvalidation_0-error:0.13542\tvalidation_0-logloss:0.28759\tvalidation_1-error:0.13636\tvalidation_1-logloss:0.30074\n",
            "[38]\tvalidation_0-error:0.13542\tvalidation_0-logloss:0.28735\tvalidation_1-error:0.13624\tvalidation_1-logloss:0.30060\n",
            "[39]\tvalidation_0-error:0.13374\tvalidation_0-logloss:0.28513\tvalidation_1-error:0.13501\tvalidation_1-logloss:0.29877\n",
            "[40]\tvalidation_0-error:0.13350\tvalidation_0-logloss:0.28425\tvalidation_1-error:0.13489\tvalidation_1-logloss:0.29808\n",
            "[41]\tvalidation_0-error:0.13284\tvalidation_0-logloss:0.28388\tvalidation_1-error:0.13477\tvalidation_1-logloss:0.29799\n",
            "[42]\tvalidation_0-error:0.13247\tvalidation_0-logloss:0.28348\tvalidation_1-error:0.13428\tvalidation_1-logloss:0.29779\n",
            "[43]\tvalidation_0-error:0.13194\tvalidation_0-logloss:0.28233\tvalidation_1-error:0.13428\tvalidation_1-logloss:0.29688\n",
            "[44]\tvalidation_0-error:0.13108\tvalidation_0-logloss:0.28126\tvalidation_1-error:0.13378\tvalidation_1-logloss:0.29645\n",
            "[45]\tvalidation_0-error:0.13026\tvalidation_0-logloss:0.28077\tvalidation_1-error:0.13329\tvalidation_1-logloss:0.29632\n",
            "[46]\tvalidation_0-error:0.13038\tvalidation_0-logloss:0.28041\tvalidation_1-error:0.13329\tvalidation_1-logloss:0.29602\n",
            "[47]\tvalidation_0-error:0.12993\tvalidation_0-logloss:0.28013\tvalidation_1-error:0.13329\tvalidation_1-logloss:0.29599\n",
            "[48]\tvalidation_0-error:0.12985\tvalidation_0-logloss:0.27988\tvalidation_1-error:0.13305\tvalidation_1-logloss:0.29608\n",
            "[49]\tvalidation_0-error:0.12965\tvalidation_0-logloss:0.27933\tvalidation_1-error:0.13280\tvalidation_1-logloss:0.29576\n",
            "[50]\tvalidation_0-error:0.12920\tvalidation_0-logloss:0.27844\tvalidation_1-error:0.13243\tvalidation_1-logloss:0.29513\n",
            "[51]\tvalidation_0-error:0.12891\tvalidation_0-logloss:0.27819\tvalidation_1-error:0.13194\tvalidation_1-logloss:0.29491\n",
            "[52]\tvalidation_0-error:0.12809\tvalidation_0-logloss:0.27783\tvalidation_1-error:0.13071\tvalidation_1-logloss:0.29432\n",
            "[53]\tvalidation_0-error:0.12809\tvalidation_0-logloss:0.27753\tvalidation_1-error:0.13157\tvalidation_1-logloss:0.29457\n",
            "[54]\tvalidation_0-error:0.12809\tvalidation_0-logloss:0.27732\tvalidation_1-error:0.13157\tvalidation_1-logloss:0.29460\n",
            "[55]\tvalidation_0-error:0.12752\tvalidation_0-logloss:0.27721\tvalidation_1-error:0.13108\tvalidation_1-logloss:0.29448\n",
            "[56]\tvalidation_0-error:0.12752\tvalidation_0-logloss:0.27697\tvalidation_1-error:0.13071\tvalidation_1-logloss:0.29433\n",
            "[57]\tvalidation_0-error:0.12740\tvalidation_0-logloss:0.27668\tvalidation_1-error:0.13157\tvalidation_1-logloss:0.29423\n",
            "[58]\tvalidation_0-error:0.12740\tvalidation_0-logloss:0.27639\tvalidation_1-error:0.13170\tvalidation_1-logloss:0.29419\n",
            "[59]\tvalidation_0-error:0.12740\tvalidation_0-logloss:0.27599\tvalidation_1-error:0.13182\tvalidation_1-logloss:0.29414\n",
            "[60]\tvalidation_0-error:0.12764\tvalidation_0-logloss:0.27567\tvalidation_1-error:0.13133\tvalidation_1-logloss:0.29417\n",
            "[61]\tvalidation_0-error:0.12723\tvalidation_0-logloss:0.27535\tvalidation_1-error:0.13108\tvalidation_1-logloss:0.29402\n",
            "[62]\tvalidation_0-error:0.12723\tvalidation_0-logloss:0.27523\tvalidation_1-error:0.13108\tvalidation_1-logloss:0.29392\n",
            "[63]\tvalidation_0-error:0.12711\tvalidation_0-logloss:0.27502\tvalidation_1-error:0.13157\tvalidation_1-logloss:0.29391\n",
            "[64]\tvalidation_0-error:0.12715\tvalidation_0-logloss:0.27492\tvalidation_1-error:0.13157\tvalidation_1-logloss:0.29387\n",
            "[65]\tvalidation_0-error:0.12674\tvalidation_0-logloss:0.27473\tvalidation_1-error:0.13133\tvalidation_1-logloss:0.29382\n",
            "[66]\tvalidation_0-error:0.12645\tvalidation_0-logloss:0.27457\tvalidation_1-error:0.13145\tvalidation_1-logloss:0.29389\n",
            "[67]\tvalidation_0-error:0.12633\tvalidation_0-logloss:0.27447\tvalidation_1-error:0.13108\tvalidation_1-logloss:0.29389\n",
            "[68]\tvalidation_0-error:0.12621\tvalidation_0-logloss:0.27429\tvalidation_1-error:0.13145\tvalidation_1-logloss:0.29403\n",
            "[69]\tvalidation_0-error:0.12617\tvalidation_0-logloss:0.27422\tvalidation_1-error:0.13170\tvalidation_1-logloss:0.29393\n",
            "[70]\tvalidation_0-error:0.12625\tvalidation_0-logloss:0.27410\tvalidation_1-error:0.13145\tvalidation_1-logloss:0.29378\n",
            "[71]\tvalidation_0-error:0.12613\tvalidation_0-logloss:0.27386\tvalidation_1-error:0.13096\tvalidation_1-logloss:0.29358\n",
            "[72]\tvalidation_0-error:0.12604\tvalidation_0-logloss:0.27364\tvalidation_1-error:0.13096\tvalidation_1-logloss:0.29358\n",
            "[73]\tvalidation_0-error:0.12596\tvalidation_0-logloss:0.27353\tvalidation_1-error:0.13096\tvalidation_1-logloss:0.29367\n",
            "[74]\tvalidation_0-error:0.12580\tvalidation_0-logloss:0.27326\tvalidation_1-error:0.13084\tvalidation_1-logloss:0.29341\n",
            "[75]\tvalidation_0-error:0.12555\tvalidation_0-logloss:0.27282\tvalidation_1-error:0.13084\tvalidation_1-logloss:0.29291\n",
            "[76]\tvalidation_0-error:0.12518\tvalidation_0-logloss:0.27212\tvalidation_1-error:0.13022\tvalidation_1-logloss:0.29241\n",
            "[77]\tvalidation_0-error:0.12535\tvalidation_0-logloss:0.27192\tvalidation_1-error:0.13059\tvalidation_1-logloss:0.29230\n",
            "[78]\tvalidation_0-error:0.12523\tvalidation_0-logloss:0.27163\tvalidation_1-error:0.13096\tvalidation_1-logloss:0.29233\n",
            "[79]\tvalidation_0-error:0.12510\tvalidation_0-logloss:0.27150\tvalidation_1-error:0.13071\tvalidation_1-logloss:0.29232\n",
            "[80]\tvalidation_0-error:0.12543\tvalidation_0-logloss:0.27140\tvalidation_1-error:0.13096\tvalidation_1-logloss:0.29244\n",
            "[81]\tvalidation_0-error:0.12527\tvalidation_0-logloss:0.27114\tvalidation_1-error:0.13096\tvalidation_1-logloss:0.29234\n",
            "[82]\tvalidation_0-error:0.12523\tvalidation_0-logloss:0.27108\tvalidation_1-error:0.13071\tvalidation_1-logloss:0.29239\n",
            "[83]\tvalidation_0-error:0.12461\tvalidation_0-logloss:0.27063\tvalidation_1-error:0.13047\tvalidation_1-logloss:0.29205\n",
            "[84]\tvalidation_0-error:0.12441\tvalidation_0-logloss:0.26997\tvalidation_1-error:0.12973\tvalidation_1-logloss:0.29152\n",
            "[85]\tvalidation_0-error:0.12441\tvalidation_0-logloss:0.26976\tvalidation_1-error:0.12961\tvalidation_1-logloss:0.29165\n",
            "[86]\tvalidation_0-error:0.12432\tvalidation_0-logloss:0.26959\tvalidation_1-error:0.12985\tvalidation_1-logloss:0.29171\n",
            "[87]\tvalidation_0-error:0.12441\tvalidation_0-logloss:0.26929\tvalidation_1-error:0.12985\tvalidation_1-logloss:0.29160\n",
            "[88]\tvalidation_0-error:0.12432\tvalidation_0-logloss:0.26917\tvalidation_1-error:0.12985\tvalidation_1-logloss:0.29163\n",
            "[89]\tvalidation_0-error:0.12428\tvalidation_0-logloss:0.26912\tvalidation_1-error:0.12985\tvalidation_1-logloss:0.29159\n",
            "[90]\tvalidation_0-error:0.12412\tvalidation_0-logloss:0.26888\tvalidation_1-error:0.13034\tvalidation_1-logloss:0.29160\n",
            "[91]\tvalidation_0-error:0.12416\tvalidation_0-logloss:0.26879\tvalidation_1-error:0.13022\tvalidation_1-logloss:0.29164\n",
            "[92]\tvalidation_0-error:0.12416\tvalidation_0-logloss:0.26870\tvalidation_1-error:0.13010\tvalidation_1-logloss:0.29165\n",
            "[93]\tvalidation_0-error:0.12379\tvalidation_0-logloss:0.26835\tvalidation_1-error:0.12998\tvalidation_1-logloss:0.29156\n",
            "[94]\tvalidation_0-error:0.12379\tvalidation_0-logloss:0.26814\tvalidation_1-error:0.12985\tvalidation_1-logloss:0.29128\n",
            "[95]\tvalidation_0-error:0.12363\tvalidation_0-logloss:0.26789\tvalidation_1-error:0.12924\tvalidation_1-logloss:0.29108\n",
            "[96]\tvalidation_0-error:0.12351\tvalidation_0-logloss:0.26761\tvalidation_1-error:0.12924\tvalidation_1-logloss:0.29084\n",
            "[97]\tvalidation_0-error:0.12359\tvalidation_0-logloss:0.26728\tvalidation_1-error:0.12936\tvalidation_1-logloss:0.29057\n",
            "[98]\tvalidation_0-error:0.12297\tvalidation_0-logloss:0.26713\tvalidation_1-error:0.12924\tvalidation_1-logloss:0.29027\n",
            "[99]\tvalidation_0-error:0.12252\tvalidation_0-logloss:0.26700\tvalidation_1-error:0.12899\tvalidation_1-logloss:0.29030\n"
          ]
        }
      ]
    },
    {
      "cell_type": "code",
      "source": [
        "y_pred1=xgb1.predict(x_test)"
      ],
      "metadata": {
        "id": "HooJxOfWCk1F"
      },
      "execution_count": 36,
      "outputs": []
    },
    {
      "cell_type": "code",
      "source": [
        "accuracy_score(y_t2, y_pred1)"
      ],
      "metadata": {
        "colab": {
          "base_uri": "https://localhost:8080/"
        },
        "id": "LzBU2J56C3E-",
        "outputId": "7a16b6a8-bc78-46a3-f708-def7b89cc96c"
      },
      "execution_count": 37,
      "outputs": [
        {
          "output_type": "execute_result",
          "data": {
            "text/plain": [
              "0.8707616707616708"
            ]
          },
          "metadata": {},
          "execution_count": 37
        }
      ]
    },
    {
      "cell_type": "code",
      "source": [
        "# retrieve performance metrics\n",
        "results = xgb1.evals_result()\n",
        "epochs = len(results['validation_0']['error'])\n",
        "x = range(0, epochs)\n",
        "# plot log loss\n",
        "fig, ax = plt.subplots()\n",
        "ax.plot(x, results['validation_0']['logloss'], label='Train')\n",
        "ax.plot(x, results['validation_1']['logloss'], label='Test')\n",
        "ax.legend()\n",
        "plt.ylabel('Log Loss')\n",
        "plt.xlabel('Epochs')\n",
        "plt.title('XGBoost Log Loss')\n",
        "plt.show()\n",
        "# plot classification error\n",
        "fig, ax = plt.subplots()\n",
        "ax.plot(x, results['validation_0']['error'], label='Train')\n",
        "ax.plot(x, results['validation_1']['error'], label='Test')\n",
        "ax.legend()\n",
        "plt.ylabel('Classification Error')\n",
        "plt.xlabel('Epochs')\n",
        "plt.title('XGBoost Classification Error')\n",
        "plt.show()"
      ],
      "metadata": {
        "colab": {
          "base_uri": "https://localhost:8080/",
          "height": 927
        },
        "id": "1kNtocm8C4gO",
        "outputId": "5f23b77a-3e97-4fca-811a-089eebc2dfbc"
      },
      "execution_count": 38,
      "outputs": [
        {
          "output_type": "display_data",
          "data": {
            "text/plain": [
              "<Figure size 640x480 with 1 Axes>"
            ],
            "image/png": "[encoded data removed]"
          },
          "metadata": {}
        },
        {
          "output_type": "display_data",
          "data": {
            "text/plain": [
              "<Figure size 640x480 with 1 Axes>"
            ],
            "image/png": "[encoded data removed]"
          },
          "metadata": {}
        }
      ]
    },
    {
      "cell_type": "markdown",
      "source": [
        "**Different method**"
      ],
      "metadata": {
        "id": "sLloz12hDLmc"
      }
    },
    {
      "cell_type": "code",
      "source": [
        "#Import Xgboost\n",
        "import xgboost as xgb"
      ],
      "metadata": {
        "id": "n0b9_7nzDRdE"
      },
      "execution_count": 40,
      "outputs": []
    },
    {
      "cell_type": "code",
      "source": [
        "dtrain = xgb.DMatrix(x_train, label = y_t1)\n",
        "dtest = xgb.DMatrix(x_test, label = y_t2)"
      ],
      "metadata": {
        "id": "TctxjBaLC9j0"
      },
      "execution_count": 41,
      "outputs": []
    },
    {
      "cell_type": "code",
      "source": [
        "#creating watchlist of training\n",
        "# to see out output\n",
        "watchlist = [(dtrain,'train'),(dtest, 'eval')]"
      ],
      "metadata": {
        "id": "tDKKfvjBDObH"
      },
      "execution_count": 42,
      "outputs": []
    },
    {
      "cell_type": "code",
      "source": [
        "params = {\n",
        "    'objective': 'binary:logistic',\n",
        "    'max_depth': 2,\n",
        "    'learning_rate': 1.0,\n",
        "    'silent': True,    # would be boolean in sklearn\n",
        "    'booster' : 'gbtree',\n",
        "    'max_depth' : 7,\n",
        "    'eval_metric' : 'auc'\n",
        "}\n",
        "# using bydeafault eta [default=0.3, alias: learning_rate]\n",
        "\n",
        "num_rounds = 100"
      ],
      "metadata": {
        "id": "Oj_Q2hWMDUSW"
      },
      "execution_count": 43,
      "outputs": []
    },
    {
      "cell_type": "code",
      "source": [
        "model_xgb = xgb.train(params, dtrain, num_rounds, evals = watchlist, early_stopping_rounds = 15, verbose_eval = True)"
      ],
      "metadata": {
        "colab": {
          "base_uri": "https://localhost:8080/"
        },
        "id": "0SNlDkPJDWm1",
        "outputId": "cf084915-66a1-45a6-c192-2e716379f0af"
      },
      "execution_count": 44,
      "outputs": [
        {
          "output_type": "stream",
          "name": "stdout",
          "text": [
            "[02:07:46] WARNING: ../src/learner.cc:767: \n",
            "Parameters: { \"silent\" } are not used.\n",
            "\n",
            "[0]\ttrain-auc:0.90581\teval-auc:0.89774\n",
            "[1]\ttrain-auc:0.92080\teval-auc:0.90904\n",
            "[2]\ttrain-auc:0.92671\teval-auc:0.91468\n",
            "[3]\ttrain-auc:0.93034\teval-auc:0.91441\n",
            "[4]\ttrain-auc:0.93479\teval-auc:0.91781\n",
            "[5]\ttrain-auc:0.93835\teval-auc:0.91943\n",
            "[6]\ttrain-auc:0.94142\teval-auc:0.92135\n",
            "[7]\ttrain-auc:0.94296\teval-auc:0.92128\n",
            "[8]\ttrain-auc:0.94669\teval-auc:0.91876\n",
            "[9]\ttrain-auc:0.94821\teval-auc:0.91875\n",
            "[10]\ttrain-auc:0.94902\teval-auc:0.91964\n",
            "[11]\ttrain-auc:0.94980\teval-auc:0.91956\n",
            "[12]\ttrain-auc:0.95174\teval-auc:0.91885\n",
            "[13]\ttrain-auc:0.95471\teval-auc:0.91788\n",
            "[14]\ttrain-auc:0.95599\teval-auc:0.91746\n",
            "[15]\ttrain-auc:0.95731\teval-auc:0.91719\n",
            "[16]\ttrain-auc:0.95790\teval-auc:0.91695\n",
            "[17]\ttrain-auc:0.95974\teval-auc:0.91589\n",
            "[18]\ttrain-auc:0.96114\teval-auc:0.91611\n",
            "[19]\ttrain-auc:0.96210\teval-auc:0.91556\n",
            "[20]\ttrain-auc:0.96245\teval-auc:0.91582\n",
            "[21]\ttrain-auc:0.96284\teval-auc:0.91510\n"
          ]
        }
      ]
    },
    {
      "cell_type": "code",
      "source": [
        "features_contribution = pd.Series(model_xgb.get_fscore()).sort_values(ascending=False)"
      ],
      "metadata": {
        "id": "tTJtX-drDZg9"
      },
      "execution_count": 46,
      "outputs": []
    },
    {
      "cell_type": "code",
      "source": [
        "plt.figure(figsize=(20,10))\n",
        "features_contribution[:50].plot(kind='bar', title='Feature Importances')\n",
        "#features_contribution[:50].plot(kind='line')\n",
        "plt.ylabel('Feature Importance Score')\n",
        "plt.show()"
      ],
      "metadata": {
        "colab": {
          "base_uri": "https://localhost:8080/",
          "height": 1000
        },
        "id": "O25Wkh68Dgyu",
        "outputId": "89f45f51-1b99-4159-ffc7-8d37a4089e02"
      },
      "execution_count": 47,
      "outputs": [
        {
          "output_type": "display_data",
          "data": {
            "text/plain": [
              "<Figure size 2000x1000 with 1 Axes>"
            ],
            "image/png": "[encoded data removed]"
          },
          "metadata": {}
        }
      ]
    },
    {
      "cell_type": "code",
      "source": [],
      "metadata": {
        "id": "kvbu0O4KDjG7"
      },
      "execution_count": null,
      "outputs": []
    },
    {
      "cell_type": "code",
      "source": [],
      "metadata": {
        "id": "EKJ5klZQD2RM"
      },
      "execution_count": null,
      "outputs": []
    },
    {
      "cell_type": "code",
      "source": [],
      "metadata": {
        "id": "QgevQ6siD2UQ"
      },
      "execution_count": null,
      "outputs": []
    },
    {
      "cell_type": "code",
      "source": [],
      "metadata": {
        "id": "olfUbvIaD2YE"
      },
      "execution_count": null,
      "outputs": []
    },
    {
      "cell_type": "code",
      "source": [],
      "metadata": {
        "id": "CLUkiQ6ZD2af"
      },
      "execution_count": null,
      "outputs": []
    },
    {
      "cell_type": "code",
      "source": [],
      "metadata": {
        "id": "sLCzy1EZD2cy"
      },
      "execution_count": null,
      "outputs": []
    },
    {
      "cell_type": "code",
      "source": [],
      "metadata": {
        "id": "KhWeMlbuD2gF"
      },
      "execution_count": null,
      "outputs": []
    },
    {
      "cell_type": "code",
      "source": [],
      "metadata": {
        "id": "pHt8bKIaD2jm"
      },
      "execution_count": null,
      "outputs": []
    },
    {
      "cell_type": "markdown",
      "source": [
        "**Reference**\n",
        "\n",
        "*1) https://github.com/speedhot/assignment_ML6_xgboost/blob/master/assignment_ML6_xgboost.ipynb*"
      ],
      "metadata": {
        "id": "Xuh0X_hRD31r"
      }
    },
    {
      "cell_type": "code",
      "source": [],
      "metadata": {
        "id": "KtKu4NwkD6We"
      },
      "execution_count": null,
      "outputs": []
    }
  ]
}