{
  "cells": [
    {
      "cell_type": "markdown",
      "metadata": {
        "id": "view-in-github",
        "colab_type": "text"
      },
      "source": [
        "<a href=\"https://colab.research.google.com/github/chidroop23/AI-ML/blob/main/ML_Project_Predicting_players_rating_ChidroopSagar.ipynb\" target=\"_parent\"><img src=\"https://colab.research.google.com/assets/colab-badge.svg\" alt=\"Open In Colab\"/></a>"
      ]
    },
    {
      "cell_type": "markdown",
      "id": "ea52963d",
      "metadata": {
        "id": "ea52963d"
      },
      "source": [
        "# Predicting players rating"
      ]
    },
    {
      "cell_type": "markdown",
      "id": "bea6f0ad",
      "metadata": {
        "id": "bea6f0ad"
      },
      "source": [
        "**Importing the Libraries**"
      ]
    },
    {
      "cell_type": "code",
      "execution_count": null,
      "id": "3ec6d75d",
      "metadata": {
        "id": "3ec6d75d"
      },
      "outputs": [],
      "source": [
        "import sqlite3\n",
        "import pandas as pd\n",
        "import numpy as np\n",
        "import matplotlib.pyplot as plt\n",
        "import networkx as nx\n",
        "\n",
        "from sklearn.tree import DecisionTreeRegressor\n",
        "from sklearn.linear_model import LinearRegression\n",
        "from sklearn.model_selection import train_test_split\n",
        "from sklearn.metrics import mean_squared_error\n",
        "from math import sqrt\n",
        "\n",
        "from sklearn.decomposition import PCA\n",
        "from sklearn.model_selection import GridSearchCV\n"
      ]
    },
    {
      "cell_type": "code",
      "execution_count": null,
      "id": "68aefe6f",
      "metadata": {
        "id": "68aefe6f"
      },
      "outputs": [],
      "source": [
        "cnx = sqlite3.connect('database.sqlite')"
      ]
    },
    {
      "cell_type": "code",
      "execution_count": null,
      "id": "c2960d10",
      "metadata": {
        "id": "c2960d10",
        "outputId": "8f8581b6-ad9c-44f8-9b82-ba2571aabe6f"
      },
      "outputs": [
        {
          "data": {
            "text/html": [
              "<div>\n",
              "<style scoped>\n",
              "    .dataframe tbody tr th:only-of-type {\n",
              "        vertical-align: middle;\n",
              "    }\n",
              "\n",
              "    .dataframe tbody tr th {\n",
              "        vertical-align: top;\n",
              "    }\n",
              "\n",
              "    .dataframe thead th {\n",
              "        text-align: right;\n",
              "    }\n",
              "</style>\n",
              "<table border=\"1\" class=\"dataframe\">\n",
              "  <thead>\n",
              "    <tr style=\"text-align: right;\">\n",
              "      <th></th>\n",
              "      <th>id</th>\n",
              "      <th>player_fifa_api_id</th>\n",
              "      <th>player_api_id</th>\n",
              "      <th>date</th>\n",
              "      <th>overall_rating</th>\n",
              "      <th>potential</th>\n",
              "      <th>preferred_foot</th>\n",
              "      <th>attacking_work_rate</th>\n",
              "      <th>defensive_work_rate</th>\n",
              "      <th>crossing</th>\n",
              "      <th>...</th>\n",
              "      <th>vision</th>\n",
              "      <th>penalties</th>\n",
              "      <th>marking</th>\n",
              "      <th>standing_tackle</th>\n",
              "      <th>sliding_tackle</th>\n",
              "      <th>gk_diving</th>\n",
              "      <th>gk_handling</th>\n",
              "      <th>gk_kicking</th>\n",
              "      <th>gk_positioning</th>\n",
              "      <th>gk_reflexes</th>\n",
              "    </tr>\n",
              "  </thead>\n",
              "  <tbody>\n",
              "    <tr>\n",
              "      <th>0</th>\n",
              "      <td>1</td>\n",
              "      <td>218353</td>\n",
              "      <td>505942</td>\n",
              "      <td>2016-02-18 00:00:00</td>\n",
              "      <td>67.0</td>\n",
              "      <td>71.0</td>\n",
              "      <td>right</td>\n",
              "      <td>medium</td>\n",
              "      <td>medium</td>\n",
              "      <td>49.0</td>\n",
              "      <td>...</td>\n",
              "      <td>54.0</td>\n",
              "      <td>48.0</td>\n",
              "      <td>65.0</td>\n",
              "      <td>69.0</td>\n",
              "      <td>69.0</td>\n",
              "      <td>6.0</td>\n",
              "      <td>11.0</td>\n",
              "      <td>10.0</td>\n",
              "      <td>8.0</td>\n",
              "      <td>8.0</td>\n",
              "    </tr>\n",
              "    <tr>\n",
              "      <th>1</th>\n",
              "      <td>2</td>\n",
              "      <td>218353</td>\n",
              "      <td>505942</td>\n",
              "      <td>2015-11-19 00:00:00</td>\n",
              "      <td>67.0</td>\n",
              "      <td>71.0</td>\n",
              "      <td>right</td>\n",
              "      <td>medium</td>\n",
              "      <td>medium</td>\n",
              "      <td>49.0</td>\n",
              "      <td>...</td>\n",
              "      <td>54.0</td>\n",
              "      <td>48.0</td>\n",
              "      <td>65.0</td>\n",
              "      <td>69.0</td>\n",
              "      <td>69.0</td>\n",
              "      <td>6.0</td>\n",
              "      <td>11.0</td>\n",
              "      <td>10.0</td>\n",
              "      <td>8.0</td>\n",
              "      <td>8.0</td>\n",
              "    </tr>\n",
              "    <tr>\n",
              "      <th>2</th>\n",
              "      <td>3</td>\n",
              "      <td>218353</td>\n",
              "      <td>505942</td>\n",
              "      <td>2015-09-21 00:00:00</td>\n",
              "      <td>62.0</td>\n",
              "      <td>66.0</td>\n",
              "      <td>right</td>\n",
              "      <td>medium</td>\n",
              "      <td>medium</td>\n",
              "      <td>49.0</td>\n",
              "      <td>...</td>\n",
              "      <td>54.0</td>\n",
              "      <td>48.0</td>\n",
              "      <td>65.0</td>\n",
              "      <td>66.0</td>\n",
              "      <td>69.0</td>\n",
              "      <td>6.0</td>\n",
              "      <td>11.0</td>\n",
              "      <td>10.0</td>\n",
              "      <td>8.0</td>\n",
              "      <td>8.0</td>\n",
              "    </tr>\n",
              "    <tr>\n",
              "      <th>3</th>\n",
              "      <td>4</td>\n",
              "      <td>218353</td>\n",
              "      <td>505942</td>\n",
              "      <td>2015-03-20 00:00:00</td>\n",
              "      <td>61.0</td>\n",
              "      <td>65.0</td>\n",
              "      <td>right</td>\n",
              "      <td>medium</td>\n",
              "      <td>medium</td>\n",
              "      <td>48.0</td>\n",
              "      <td>...</td>\n",
              "      <td>53.0</td>\n",
              "      <td>47.0</td>\n",
              "      <td>62.0</td>\n",
              "      <td>63.0</td>\n",
              "      <td>66.0</td>\n",
              "      <td>5.0</td>\n",
              "      <td>10.0</td>\n",
              "      <td>9.0</td>\n",
              "      <td>7.0</td>\n",
              "      <td>7.0</td>\n",
              "    </tr>\n",
              "    <tr>\n",
              "      <th>4</th>\n",
              "      <td>5</td>\n",
              "      <td>218353</td>\n",
              "      <td>505942</td>\n",
              "      <td>2007-02-22 00:00:00</td>\n",
              "      <td>61.0</td>\n",
              "      <td>65.0</td>\n",
              "      <td>right</td>\n",
              "      <td>medium</td>\n",
              "      <td>medium</td>\n",
              "      <td>48.0</td>\n",
              "      <td>...</td>\n",
              "      <td>53.0</td>\n",
              "      <td>47.0</td>\n",
              "      <td>62.0</td>\n",
              "      <td>63.0</td>\n",
              "      <td>66.0</td>\n",
              "      <td>5.0</td>\n",
              "      <td>10.0</td>\n",
              "      <td>9.0</td>\n",
              "      <td>7.0</td>\n",
              "      <td>7.0</td>\n",
              "    </tr>\n",
              "  </tbody>\n",
              "</table>\n",
              "<p>5 rows × 42 columns</p>\n",
              "</div>"
            ],
            "text/plain": [
              "   id  player_fifa_api_id  player_api_id                 date  overall_rating  \\\n",
              "0   1              218353         505942  2016-02-18 00:00:00            67.0   \n",
              "1   2              218353         505942  2015-11-19 00:00:00            67.0   \n",
              "2   3              218353         505942  2015-09-21 00:00:00            62.0   \n",
              "3   4              218353         505942  2015-03-20 00:00:00            61.0   \n",
              "4   5              218353         505942  2007-02-22 00:00:00            61.0   \n",
              "\n",
              "   potential preferred_foot attacking_work_rate defensive_work_rate  crossing  \\\n",
              "0       71.0          right              medium              medium      49.0   \n",
              "1       71.0          right              medium              medium      49.0   \n",
              "2       66.0          right              medium              medium      49.0   \n",
              "3       65.0          right              medium              medium      48.0   \n",
              "4       65.0          right              medium              medium      48.0   \n",
              "\n",
              "   ...  vision  penalties  marking  standing_tackle  sliding_tackle  \\\n",
              "0  ...    54.0       48.0     65.0             69.0            69.0   \n",
              "1  ...    54.0       48.0     65.0             69.0            69.0   \n",
              "2  ...    54.0       48.0     65.0             66.0            69.0   \n",
              "3  ...    53.0       47.0     62.0             63.0            66.0   \n",
              "4  ...    53.0       47.0     62.0             63.0            66.0   \n",
              "\n",
              "   gk_diving  gk_handling  gk_kicking  gk_positioning  gk_reflexes  \n",
              "0        6.0         11.0        10.0             8.0          8.0  \n",
              "1        6.0         11.0        10.0             8.0          8.0  \n",
              "2        6.0         11.0        10.0             8.0          8.0  \n",
              "3        5.0         10.0         9.0             7.0          7.0  \n",
              "4        5.0         10.0         9.0             7.0          7.0  \n",
              "\n",
              "[5 rows x 42 columns]"
            ]
          },
          "execution_count": 6,
          "metadata": {},
          "output_type": "execute_result"
        }
      ],
      "source": [
        "df = pd.read_sql_query(\"SELECT * FROM Player_Attributes\", cnx)\n",
        "df.head()"
      ]
    },
    {
      "cell_type": "markdown",
      "id": "0e31cdf8",
      "metadata": {
        "id": "0e31cdf8"
      },
      "source": [
        "**Data Statistics**"
      ]
    },
    {
      "cell_type": "code",
      "execution_count": null,
      "id": "946d7b86",
      "metadata": {
        "id": "946d7b86",
        "outputId": "9b1f8ecc-3782-450e-bd38-615b0d56dc4a"
      },
      "outputs": [
        {
          "name": "stdout",
          "output_type": "stream",
          "text": [
            "<class 'pandas.core.frame.DataFrame'>\n",
            "RangeIndex: 183978 entries, 0 to 183977\n",
            "Data columns (total 42 columns):\n",
            " #   Column               Non-Null Count   Dtype  \n",
            "---  ------               --------------   -----  \n",
            " 0   id                   183978 non-null  int64  \n",
            " 1   player_fifa_api_id   183978 non-null  int64  \n",
            " 2   player_api_id        183978 non-null  int64  \n",
            " 3   date                 183978 non-null  object \n",
            " 4   overall_rating       183142 non-null  float64\n",
            " 5   potential            183142 non-null  float64\n",
            " 6   preferred_foot       183142 non-null  object \n",
            " 7   attacking_work_rate  180748 non-null  object \n",
            " 8   defensive_work_rate  183142 non-null  object \n",
            " 9   crossing             183142 non-null  float64\n",
            " 10  finishing            183142 non-null  float64\n",
            " 11  heading_accuracy     183142 non-null  float64\n",
            " 12  short_passing        183142 non-null  float64\n",
            " 13  volleys              181265 non-null  float64\n",
            " 14  dribbling            183142 non-null  float64\n",
            " 15  curve                181265 non-null  float64\n",
            " 16  free_kick_accuracy   183142 non-null  float64\n",
            " 17  long_passing         183142 non-null  float64\n",
            " 18  ball_control         183142 non-null  float64\n",
            " 19  acceleration         183142 non-null  float64\n",
            " 20  sprint_speed         183142 non-null  float64\n",
            " 21  agility              181265 non-null  float64\n",
            " 22  reactions            183142 non-null  float64\n",
            " 23  balance              181265 non-null  float64\n",
            " 24  shot_power           183142 non-null  float64\n",
            " 25  jumping              181265 non-null  float64\n",
            " 26  stamina              183142 non-null  float64\n",
            " 27  strength             183142 non-null  float64\n",
            " 28  long_shots           183142 non-null  float64\n",
            " 29  aggression           183142 non-null  float64\n",
            " 30  interceptions        183142 non-null  float64\n",
            " 31  positioning          183142 non-null  float64\n",
            " 32  vision               181265 non-null  float64\n",
            " 33  penalties            183142 non-null  float64\n",
            " 34  marking              183142 non-null  float64\n",
            " 35  standing_tackle      183142 non-null  float64\n",
            " 36  sliding_tackle       181265 non-null  float64\n",
            " 37  gk_diving            183142 non-null  float64\n",
            " 38  gk_handling          183142 non-null  float64\n",
            " 39  gk_kicking           183142 non-null  float64\n",
            " 40  gk_positioning       183142 non-null  float64\n",
            " 41  gk_reflexes          183142 non-null  float64\n",
            "dtypes: float64(35), int64(3), object(4)\n",
            "memory usage: 59.0+ MB\n"
          ]
        }
      ],
      "source": [
        "df.info()"
      ]
    },
    {
      "cell_type": "code",
      "execution_count": null,
      "id": "f1246e19",
      "metadata": {
        "id": "f1246e19",
        "outputId": "db958d9c-d20f-4523-ab21-5886cc76b8cf"
      },
      "outputs": [
        {
          "data": {
            "text/html": [
              "<div>\n",
              "<style scoped>\n",
              "    .dataframe tbody tr th:only-of-type {\n",
              "        vertical-align: middle;\n",
              "    }\n",
              "\n",
              "    .dataframe tbody tr th {\n",
              "        vertical-align: top;\n",
              "    }\n",
              "\n",
              "    .dataframe thead th {\n",
              "        text-align: right;\n",
              "    }\n",
              "</style>\n",
              "<table border=\"1\" class=\"dataframe\">\n",
              "  <thead>\n",
              "    <tr style=\"text-align: right;\">\n",
              "      <th></th>\n",
              "      <th>id</th>\n",
              "      <th>player_fifa_api_id</th>\n",
              "      <th>player_api_id</th>\n",
              "      <th>overall_rating</th>\n",
              "      <th>potential</th>\n",
              "      <th>crossing</th>\n",
              "      <th>finishing</th>\n",
              "      <th>heading_accuracy</th>\n",
              "      <th>short_passing</th>\n",
              "      <th>volleys</th>\n",
              "      <th>...</th>\n",
              "      <th>vision</th>\n",
              "      <th>penalties</th>\n",
              "      <th>marking</th>\n",
              "      <th>standing_tackle</th>\n",
              "      <th>sliding_tackle</th>\n",
              "      <th>gk_diving</th>\n",
              "      <th>gk_handling</th>\n",
              "      <th>gk_kicking</th>\n",
              "      <th>gk_positioning</th>\n",
              "      <th>gk_reflexes</th>\n",
              "    </tr>\n",
              "  </thead>\n",
              "  <tbody>\n",
              "    <tr>\n",
              "      <th>count</th>\n",
              "      <td>183978.00000</td>\n",
              "      <td>183978.000000</td>\n",
              "      <td>183978.000000</td>\n",
              "      <td>183142.000000</td>\n",
              "      <td>183142.000000</td>\n",
              "      <td>183142.000000</td>\n",
              "      <td>183142.000000</td>\n",
              "      <td>183142.000000</td>\n",
              "      <td>183142.000000</td>\n",
              "      <td>181265.000000</td>\n",
              "      <td>...</td>\n",
              "      <td>181265.000000</td>\n",
              "      <td>183142.000000</td>\n",
              "      <td>183142.000000</td>\n",
              "      <td>183142.000000</td>\n",
              "      <td>181265.000000</td>\n",
              "      <td>183142.000000</td>\n",
              "      <td>183142.000000</td>\n",
              "      <td>183142.000000</td>\n",
              "      <td>183142.000000</td>\n",
              "      <td>183142.000000</td>\n",
              "    </tr>\n",
              "    <tr>\n",
              "      <th>mean</th>\n",
              "      <td>91989.50000</td>\n",
              "      <td>165671.524291</td>\n",
              "      <td>135900.617324</td>\n",
              "      <td>68.600015</td>\n",
              "      <td>73.460353</td>\n",
              "      <td>55.086883</td>\n",
              "      <td>49.921078</td>\n",
              "      <td>57.266023</td>\n",
              "      <td>62.429672</td>\n",
              "      <td>49.468436</td>\n",
              "      <td>...</td>\n",
              "      <td>57.873550</td>\n",
              "      <td>55.003986</td>\n",
              "      <td>46.772242</td>\n",
              "      <td>50.351257</td>\n",
              "      <td>48.001462</td>\n",
              "      <td>14.704393</td>\n",
              "      <td>16.063612</td>\n",
              "      <td>20.998362</td>\n",
              "      <td>16.132154</td>\n",
              "      <td>16.441439</td>\n",
              "    </tr>\n",
              "    <tr>\n",
              "      <th>std</th>\n",
              "      <td>53110.01825</td>\n",
              "      <td>53851.094769</td>\n",
              "      <td>136927.840510</td>\n",
              "      <td>7.041139</td>\n",
              "      <td>6.592271</td>\n",
              "      <td>17.242135</td>\n",
              "      <td>19.038705</td>\n",
              "      <td>16.488905</td>\n",
              "      <td>14.194068</td>\n",
              "      <td>18.256618</td>\n",
              "      <td>...</td>\n",
              "      <td>15.144086</td>\n",
              "      <td>15.546519</td>\n",
              "      <td>21.227667</td>\n",
              "      <td>21.483706</td>\n",
              "      <td>21.598778</td>\n",
              "      <td>16.865467</td>\n",
              "      <td>15.867382</td>\n",
              "      <td>21.452980</td>\n",
              "      <td>16.099175</td>\n",
              "      <td>17.198155</td>\n",
              "    </tr>\n",
              "    <tr>\n",
              "      <th>min</th>\n",
              "      <td>1.00000</td>\n",
              "      <td>2.000000</td>\n",
              "      <td>2625.000000</td>\n",
              "      <td>33.000000</td>\n",
              "      <td>39.000000</td>\n",
              "      <td>1.000000</td>\n",
              "      <td>1.000000</td>\n",
              "      <td>1.000000</td>\n",
              "      <td>3.000000</td>\n",
              "      <td>1.000000</td>\n",
              "      <td>...</td>\n",
              "      <td>1.000000</td>\n",
              "      <td>2.000000</td>\n",
              "      <td>1.000000</td>\n",
              "      <td>1.000000</td>\n",
              "      <td>2.000000</td>\n",
              "      <td>1.000000</td>\n",
              "      <td>1.000000</td>\n",
              "      <td>1.000000</td>\n",
              "      <td>1.000000</td>\n",
              "      <td>1.000000</td>\n",
              "    </tr>\n",
              "    <tr>\n",
              "      <th>25%</th>\n",
              "      <td>45995.25000</td>\n",
              "      <td>155798.000000</td>\n",
              "      <td>34763.000000</td>\n",
              "      <td>64.000000</td>\n",
              "      <td>69.000000</td>\n",
              "      <td>45.000000</td>\n",
              "      <td>34.000000</td>\n",
              "      <td>49.000000</td>\n",
              "      <td>57.000000</td>\n",
              "      <td>35.000000</td>\n",
              "      <td>...</td>\n",
              "      <td>49.000000</td>\n",
              "      <td>45.000000</td>\n",
              "      <td>25.000000</td>\n",
              "      <td>29.000000</td>\n",
              "      <td>25.000000</td>\n",
              "      <td>7.000000</td>\n",
              "      <td>8.000000</td>\n",
              "      <td>8.000000</td>\n",
              "      <td>8.000000</td>\n",
              "      <td>8.000000</td>\n",
              "    </tr>\n",
              "    <tr>\n",
              "      <th>50%</th>\n",
              "      <td>91989.50000</td>\n",
              "      <td>183488.000000</td>\n",
              "      <td>77741.000000</td>\n",
              "      <td>69.000000</td>\n",
              "      <td>74.000000</td>\n",
              "      <td>59.000000</td>\n",
              "      <td>53.000000</td>\n",
              "      <td>60.000000</td>\n",
              "      <td>65.000000</td>\n",
              "      <td>52.000000</td>\n",
              "      <td>...</td>\n",
              "      <td>60.000000</td>\n",
              "      <td>57.000000</td>\n",
              "      <td>50.000000</td>\n",
              "      <td>56.000000</td>\n",
              "      <td>53.000000</td>\n",
              "      <td>10.000000</td>\n",
              "      <td>11.000000</td>\n",
              "      <td>12.000000</td>\n",
              "      <td>11.000000</td>\n",
              "      <td>11.000000</td>\n",
              "    </tr>\n",
              "    <tr>\n",
              "      <th>75%</th>\n",
              "      <td>137983.75000</td>\n",
              "      <td>199848.000000</td>\n",
              "      <td>191080.000000</td>\n",
              "      <td>73.000000</td>\n",
              "      <td>78.000000</td>\n",
              "      <td>68.000000</td>\n",
              "      <td>65.000000</td>\n",
              "      <td>68.000000</td>\n",
              "      <td>72.000000</td>\n",
              "      <td>64.000000</td>\n",
              "      <td>...</td>\n",
              "      <td>69.000000</td>\n",
              "      <td>67.000000</td>\n",
              "      <td>66.000000</td>\n",
              "      <td>69.000000</td>\n",
              "      <td>67.000000</td>\n",
              "      <td>13.000000</td>\n",
              "      <td>15.000000</td>\n",
              "      <td>15.000000</td>\n",
              "      <td>15.000000</td>\n",
              "      <td>15.000000</td>\n",
              "    </tr>\n",
              "    <tr>\n",
              "      <th>max</th>\n",
              "      <td>183978.00000</td>\n",
              "      <td>234141.000000</td>\n",
              "      <td>750584.000000</td>\n",
              "      <td>94.000000</td>\n",
              "      <td>97.000000</td>\n",
              "      <td>95.000000</td>\n",
              "      <td>97.000000</td>\n",
              "      <td>98.000000</td>\n",
              "      <td>97.000000</td>\n",
              "      <td>93.000000</td>\n",
              "      <td>...</td>\n",
              "      <td>97.000000</td>\n",
              "      <td>96.000000</td>\n",
              "      <td>96.000000</td>\n",
              "      <td>95.000000</td>\n",
              "      <td>95.000000</td>\n",
              "      <td>94.000000</td>\n",
              "      <td>93.000000</td>\n",
              "      <td>97.000000</td>\n",
              "      <td>96.000000</td>\n",
              "      <td>96.000000</td>\n",
              "    </tr>\n",
              "  </tbody>\n",
              "</table>\n",
              "<p>8 rows × 38 columns</p>\n",
              "</div>"
            ],
            "text/plain": [
              "                 id  player_fifa_api_id  player_api_id  overall_rating  \\\n",
              "count  183978.00000       183978.000000  183978.000000   183142.000000   \n",
              "mean    91989.50000       165671.524291  135900.617324       68.600015   \n",
              "std     53110.01825        53851.094769  136927.840510        7.041139   \n",
              "min         1.00000            2.000000    2625.000000       33.000000   \n",
              "25%     45995.25000       155798.000000   34763.000000       64.000000   \n",
              "50%     91989.50000       183488.000000   77741.000000       69.000000   \n",
              "75%    137983.75000       199848.000000  191080.000000       73.000000   \n",
              "max    183978.00000       234141.000000  750584.000000       94.000000   \n",
              "\n",
              "           potential       crossing      finishing  heading_accuracy  \\\n",
              "count  183142.000000  183142.000000  183142.000000     183142.000000   \n",
              "mean       73.460353      55.086883      49.921078         57.266023   \n",
              "std         6.592271      17.242135      19.038705         16.488905   \n",
              "min        39.000000       1.000000       1.000000          1.000000   \n",
              "25%        69.000000      45.000000      34.000000         49.000000   \n",
              "50%        74.000000      59.000000      53.000000         60.000000   \n",
              "75%        78.000000      68.000000      65.000000         68.000000   \n",
              "max        97.000000      95.000000      97.000000         98.000000   \n",
              "\n",
              "       short_passing        volleys  ...         vision      penalties  \\\n",
              "count  183142.000000  181265.000000  ...  181265.000000  183142.000000   \n",
              "mean       62.429672      49.468436  ...      57.873550      55.003986   \n",
              "std        14.194068      18.256618  ...      15.144086      15.546519   \n",
              "min         3.000000       1.000000  ...       1.000000       2.000000   \n",
              "25%        57.000000      35.000000  ...      49.000000      45.000000   \n",
              "50%        65.000000      52.000000  ...      60.000000      57.000000   \n",
              "75%        72.000000      64.000000  ...      69.000000      67.000000   \n",
              "max        97.000000      93.000000  ...      97.000000      96.000000   \n",
              "\n",
              "             marking  standing_tackle  sliding_tackle      gk_diving  \\\n",
              "count  183142.000000    183142.000000   181265.000000  183142.000000   \n",
              "mean       46.772242        50.351257       48.001462      14.704393   \n",
              "std        21.227667        21.483706       21.598778      16.865467   \n",
              "min         1.000000         1.000000        2.000000       1.000000   \n",
              "25%        25.000000        29.000000       25.000000       7.000000   \n",
              "50%        50.000000        56.000000       53.000000      10.000000   \n",
              "75%        66.000000        69.000000       67.000000      13.000000   \n",
              "max        96.000000        95.000000       95.000000      94.000000   \n",
              "\n",
              "         gk_handling     gk_kicking  gk_positioning    gk_reflexes  \n",
              "count  183142.000000  183142.000000   183142.000000  183142.000000  \n",
              "mean       16.063612      20.998362       16.132154      16.441439  \n",
              "std        15.867382      21.452980       16.099175      17.198155  \n",
              "min         1.000000       1.000000        1.000000       1.000000  \n",
              "25%         8.000000       8.000000        8.000000       8.000000  \n",
              "50%        11.000000      12.000000       11.000000      11.000000  \n",
              "75%        15.000000      15.000000       15.000000      15.000000  \n",
              "max        93.000000      97.000000       96.000000      96.000000  \n",
              "\n",
              "[8 rows x 38 columns]"
            ]
          },
          "execution_count": 8,
          "metadata": {},
          "output_type": "execute_result"
        }
      ],
      "source": [
        "df.describe()"
      ]
    },
    {
      "cell_type": "code",
      "execution_count": null,
      "id": "289dd86f",
      "metadata": {
        "id": "289dd86f",
        "outputId": "114f1fbc-80dc-4e09-90e4-0c79316ea340"
      },
      "outputs": [
        {
          "data": {
            "text/plain": [
              "(183978, 42)"
            ]
          },
          "execution_count": 10,
          "metadata": {},
          "output_type": "execute_result"
        }
      ],
      "source": [
        "df.shape"
      ]
    },
    {
      "cell_type": "markdown",
      "id": "9bea029b",
      "metadata": {
        "id": "9bea029b"
      },
      "source": [
        "**Checking for  missing values**"
      ]
    },
    {
      "cell_type": "code",
      "execution_count": null,
      "id": "691c4083",
      "metadata": {
        "id": "691c4083",
        "outputId": "b61c8420-e314-402f-e6cf-e42f0310f4a6"
      },
      "outputs": [
        {
          "data": {
            "text/plain": [
              "id                        0\n",
              "player_fifa_api_id        0\n",
              "player_api_id             0\n",
              "date                      0\n",
              "overall_rating          836\n",
              "potential               836\n",
              "preferred_foot          836\n",
              "attacking_work_rate    3230\n",
              "defensive_work_rate     836\n",
              "crossing                836\n",
              "finishing               836\n",
              "heading_accuracy        836\n",
              "short_passing           836\n",
              "volleys                2713\n",
              "dribbling               836\n",
              "curve                  2713\n",
              "free_kick_accuracy      836\n",
              "long_passing            836\n",
              "ball_control            836\n",
              "acceleration            836\n",
              "sprint_speed            836\n",
              "agility                2713\n",
              "reactions               836\n",
              "balance                2713\n",
              "shot_power              836\n",
              "jumping                2713\n",
              "stamina                 836\n",
              "strength                836\n",
              "long_shots              836\n",
              "aggression              836\n",
              "interceptions           836\n",
              "positioning             836\n",
              "vision                 2713\n",
              "penalties               836\n",
              "marking                 836\n",
              "standing_tackle         836\n",
              "sliding_tackle         2713\n",
              "gk_diving               836\n",
              "gk_handling             836\n",
              "gk_kicking              836\n",
              "gk_positioning          836\n",
              "gk_reflexes             836\n",
              "dtype: int64"
            ]
          },
          "execution_count": 11,
          "metadata": {},
          "output_type": "execute_result"
        }
      ],
      "source": [
        "df.isnull().sum()"
      ]
    },
    {
      "cell_type": "code",
      "execution_count": null,
      "id": "52def207",
      "metadata": {
        "id": "52def207",
        "outputId": "edf6185f-c379-449b-d8d5-dd6dd415b7b7"
      },
      "outputs": [
        {
          "data": {
            "text/plain": [
              "count    183142.000000\n",
              "mean         68.600015\n",
              "std           7.041139\n",
              "min          33.000000\n",
              "25%          64.000000\n",
              "50%          69.000000\n",
              "75%          73.000000\n",
              "max          94.000000\n",
              "Name: overall_rating, dtype: float64"
            ]
          },
          "execution_count": 12,
          "metadata": {},
          "output_type": "execute_result"
        }
      ],
      "source": [
        "df['overall_rating'].describe()"
      ]
    },
    {
      "cell_type": "code",
      "execution_count": null,
      "id": "fa5027a3",
      "metadata": {
        "id": "fa5027a3",
        "outputId": "48e1c8f7-397f-4be1-ec6c-87bda023fbec"
      },
      "outputs": [
        {
          "data": {
            "image/png": "[encoded data removed]",
            "text/plain": [
              "<Figure size 1080x720 with 1 Axes>"
            ]
          },
          "metadata": {
            "needs_background": "light"
          },
          "output_type": "display_data"
        }
      ],
      "source": [
        "plt.figure(figsize=(15, 10))\n",
        "plt.hist(df['overall_rating'])\n",
        "plt.xlabel('Overall Rating')\n",
        "plt.ylabel('Frequency')\n",
        "plt.title('Distribution of Overall Rating')\n",
        "plt.show()"
      ]
    },
    {
      "cell_type": "code",
      "execution_count": null,
      "id": "4f274c50",
      "metadata": {
        "id": "4f274c50"
      },
      "outputs": [],
      "source": [
        "features = [\n",
        "       'potential', 'crossing', 'finishing', 'heading_accuracy',\n",
        "       'short_passing', 'volleys', 'dribbling', 'curve', 'free_kick_accuracy',\n",
        "       'long_passing', 'ball_control', 'acceleration', 'sprint_speed',\n",
        "       'agility', 'reactions', 'balance', 'shot_power', 'jumping', 'stamina',\n",
        "       'strength', 'long_shots', 'aggression', 'interceptions', 'positioning',\n",
        "       'vision', 'penalties', 'marking', 'standing_tackle', 'sliding_tackle',\n",
        "       'gk_diving', 'gk_handling', 'gk_kicking', 'gk_positioning',\n",
        "       'gk_reflexes']"
      ]
    },
    {
      "cell_type": "code",
      "execution_count": null,
      "id": "0c32577e",
      "metadata": {
        "id": "0c32577e"
      },
      "outputs": [],
      "source": [
        "target = ['overall_rating']"
      ]
    },
    {
      "cell_type": "markdown",
      "id": "da46ee37",
      "metadata": {
        "id": "da46ee37"
      },
      "source": [
        "**Data Cleaning**"
      ]
    },
    {
      "cell_type": "code",
      "execution_count": null,
      "id": "ccb6c15d",
      "metadata": {
        "id": "ccb6c15d"
      },
      "outputs": [],
      "source": [
        "df=df.dropna()"
      ]
    },
    {
      "cell_type": "markdown",
      "id": "3cee2ba2",
      "metadata": {
        "id": "3cee2ba2"
      },
      "source": [
        "**New dataframes for target and features**"
      ]
    },
    {
      "cell_type": "code",
      "execution_count": null,
      "id": "1897feab",
      "metadata": {
        "id": "1897feab"
      },
      "outputs": [],
      "source": [
        "X= df[features]"
      ]
    },
    {
      "cell_type": "code",
      "execution_count": null,
      "id": "8918fef4",
      "metadata": {
        "id": "8918fef4"
      },
      "outputs": [],
      "source": [
        "y= df[target]"
      ]
    },
    {
      "cell_type": "markdown",
      "id": "ad0440c8",
      "metadata": {
        "id": "ad0440c8"
      },
      "source": [
        "**Splitting the Dataset**"
      ]
    },
    {
      "cell_type": "code",
      "execution_count": null,
      "id": "e4d51fb3",
      "metadata": {
        "id": "e4d51fb3"
      },
      "outputs": [],
      "source": [
        "X_train, X_test, y_train, y_test = train_test_split(X, y, test_size=0.33, random_state=42)"
      ]
    },
    {
      "cell_type": "markdown",
      "id": "58236e62",
      "metadata": {
        "id": "58236e62"
      },
      "source": [
        "# Linear Regression"
      ]
    },
    {
      "cell_type": "code",
      "execution_count": null,
      "id": "bf6ef889",
      "metadata": {
        "id": "bf6ef889",
        "outputId": "5d7414dd-7d38-41c3-8ea8-100340371a28"
      },
      "outputs": [
        {
          "data": {
            "text/plain": [
              "LinearRegression()"
            ]
          },
          "execution_count": 26,
          "metadata": {},
          "output_type": "execute_result"
        }
      ],
      "source": [
        "regressor = LinearRegression()\n",
        "regressor.fit(X_train, y_train)"
      ]
    },
    {
      "cell_type": "markdown",
      "id": "ed01496d",
      "metadata": {
        "id": "ed01496d"
      },
      "source": [
        "# Prediction"
      ]
    },
    {
      "cell_type": "code",
      "execution_count": null,
      "id": "9a8a1e06",
      "metadata": {
        "id": "9a8a1e06",
        "outputId": "8e7b042b-ebbf-4c11-d208-136dc248f259"
      },
      "outputs": [
        {
          "data": {
            "text/plain": [
              "array([[54.40597031],\n",
              "       [61.8824025 ],\n",
              "       [77.80609781],\n",
              "       ...,\n",
              "       [63.62543591],\n",
              "       [61.96911847],\n",
              "       [60.09474538]])"
            ]
          },
          "execution_count": 27,
          "metadata": {},
          "output_type": "execute_result"
        }
      ],
      "source": [
        "y_prediction = regressor.predict(X_test)\n",
        "y_prediction"
      ]
    },
    {
      "cell_type": "markdown",
      "id": "f00624db",
      "metadata": {
        "id": "f00624db"
      },
      "source": [
        "# RMSE LR"
      ]
    },
    {
      "cell_type": "code",
      "execution_count": null,
      "id": "1bcc59bb",
      "metadata": {
        "id": "1bcc59bb",
        "outputId": "97f6324e-5abd-480b-bc05-5cdd1d29c4d5"
      },
      "outputs": [
        {
          "name": "stdout",
          "output_type": "stream",
          "text": [
            "2.801353399514048\n"
          ]
        }
      ],
      "source": [
        "RMSE = sqrt(mean_squared_error(y_true = y_test, y_pred = y_prediction))\n",
        "print(RMSE)"
      ]
    },
    {
      "cell_type": "markdown",
      "id": "7daaa773",
      "metadata": {
        "id": "7daaa773"
      },
      "source": [
        "# Decision Tree Regressor"
      ]
    },
    {
      "cell_type": "code",
      "execution_count": null,
      "id": "682a4b67",
      "metadata": {
        "id": "682a4b67",
        "outputId": "f56f424c-ffad-46c2-cf43-517f3b50ae90"
      },
      "outputs": [
        {
          "data": {
            "text/plain": [
              "DecisionTreeRegressor(max_depth=20)"
            ]
          },
          "execution_count": 29,
          "metadata": {},
          "output_type": "execute_result"
        }
      ],
      "source": [
        "regressor = DecisionTreeRegressor(max_depth=20)\n",
        "regressor.fit(X_train, y_train)"
      ]
    },
    {
      "cell_type": "markdown",
      "id": "6f931508",
      "metadata": {
        "id": "6f931508"
      },
      "source": [
        "# Prediction"
      ]
    },
    {
      "cell_type": "code",
      "execution_count": null,
      "id": "9d7b1ecb",
      "metadata": {
        "id": "9d7b1ecb",
        "outputId": "b88ada33-cb32-4dd4-b36a-43f542ec5257"
      },
      "outputs": [
        {
          "data": {
            "text/plain": [
              "array([63.   , 63.   , 80.   , ..., 69.   , 61.875, 60.   ])"
            ]
          },
          "execution_count": 30,
          "metadata": {},
          "output_type": "execute_result"
        }
      ],
      "source": [
        "y_prediction = regressor.predict(X_test)\n",
        "y_prediction"
      ]
    },
    {
      "cell_type": "markdown",
      "id": "968244b4",
      "metadata": {
        "id": "968244b4"
      },
      "source": [
        "# RMSE Decision Tree"
      ]
    },
    {
      "cell_type": "code",
      "execution_count": null,
      "id": "c671f291",
      "metadata": {
        "id": "c671f291",
        "outputId": "7c2feae5-f1ec-4b78-9d9e-ac5bd2d9df2e"
      },
      "outputs": [
        {
          "name": "stdout",
          "output_type": "stream",
          "text": [
            "1.4794363636500147\n"
          ]
        }
      ],
      "source": [
        "RMSE = sqrt(mean_squared_error(y_true = y_test, y_pred = y_prediction))\n",
        "print(RMSE)"
      ]
    },
    {
      "cell_type": "code",
      "execution_count": null,
      "id": "d9f350d7",
      "metadata": {
        "id": "d9f350d7"
      },
      "outputs": [],
      "source": []
    },
    {
      "cell_type": "code",
      "execution_count": null,
      "id": "7924f5b4",
      "metadata": {
        "id": "7924f5b4"
      },
      "outputs": [],
      "source": []
    },
    {
      "cell_type": "code",
      "execution_count": null,
      "id": "6fecc98e",
      "metadata": {
        "id": "6fecc98e"
      },
      "outputs": [],
      "source": []
    },
    {
      "cell_type": "code",
      "execution_count": null,
      "id": "0f1d93dd",
      "metadata": {
        "id": "0f1d93dd"
      },
      "outputs": [],
      "source": []
    },
    {
      "cell_type": "code",
      "execution_count": null,
      "id": "afc59edd",
      "metadata": {
        "id": "afc59edd"
      },
      "outputs": [],
      "source": []
    },
    {
      "cell_type": "markdown",
      "id": "5db76fb2",
      "metadata": {
        "id": "5db76fb2"
      },
      "source": [
        "**References**\n",
        "\n",
        "1)https://www.kaggle.com/code/manuelquintosabelli/lr-vs-decision-tree-sklearn-sqlite"
      ]
    }
  ],
  "metadata": {
    "kernelspec": {
      "display_name": "Python 3 (ipykernel)",
      "language": "python",
      "name": "python3"
    },
    "language_info": {
      "codemirror_mode": {
        "name": "ipython",
        "version": 3
      },
      "file_extension": ".py",
      "mimetype": "text/x-python",
      "name": "python",
      "nbconvert_exporter": "python",
      "pygments_lexer": "ipython3",
      "version": "3.9.12"
    },
    "colab": {
      "provenance": [],
      "include_colab_link": true
    }
  },
  "nbformat": 4,
  "nbformat_minor": 5
}